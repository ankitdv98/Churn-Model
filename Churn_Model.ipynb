{
  "nbformat": 4,
  "nbformat_minor": 0,
  "metadata": {
    "colab": {
      "name": "Churn Model.ipynb",
      "provenance": []
    },
    "kernelspec": {
      "name": "python3",
      "display_name": "Python 3"
    }
  },
  "cells": [
    {
      "cell_type": "code",
      "metadata": {
        "id": "rxp2MnA2u7R6",
        "colab_type": "code",
        "colab": {}
      },
      "source": [
        "import numpy as np\n",
        "import matplotlib.pyplot as plt\n",
        "import pandas as pd\n",
        "import seaborn as sns"
      ],
      "execution_count": 3,
      "outputs": []
    },
    {
      "cell_type": "code",
      "metadata": {
        "id": "dSDlepsfvrXV",
        "colab_type": "code",
        "colab": {}
      },
      "source": [
        "dataset= pd.read_csv('churn_data.csv')"
      ],
      "execution_count": 4,
      "outputs": []
    },
    {
      "cell_type": "code",
      "metadata": {
        "id": "zTPvHauO3rDK",
        "colab_type": "code",
        "colab": {
          "base_uri": "https://localhost:8080/",
          "height": 35
        },
        "outputId": "07636b29-2c09-4cc5-c020-6290421fbf4a"
      },
      "source": [
        "dataset.shape"
      ],
      "execution_count": 5,
      "outputs": [
        {
          "output_type": "execute_result",
          "data": {
            "text/plain": [
              "(27000, 31)"
            ]
          },
          "metadata": {
            "tags": []
          },
          "execution_count": 5
        }
      ]
    },
    {
      "cell_type": "code",
      "metadata": {
        "id": "rXlFXR4tvrbB",
        "colab_type": "code",
        "colab": {
          "base_uri": "https://localhost:8080/",
          "height": 226
        },
        "outputId": "5a089f9e-1a85-4e80-d717-84c2f853b9a9"
      },
      "source": [
        "dataset.head()"
      ],
      "execution_count": 6,
      "outputs": [
        {
          "output_type": "execute_result",
          "data": {
            "text/html": [
              "<div>\n",
              "<style scoped>\n",
              "    .dataframe tbody tr th:only-of-type {\n",
              "        vertical-align: middle;\n",
              "    }\n",
              "\n",
              "    .dataframe tbody tr th {\n",
              "        vertical-align: top;\n",
              "    }\n",
              "\n",
              "    .dataframe thead th {\n",
              "        text-align: right;\n",
              "    }\n",
              "</style>\n",
              "<table border=\"1\" class=\"dataframe\">\n",
              "  <thead>\n",
              "    <tr style=\"text-align: right;\">\n",
              "      <th></th>\n",
              "      <th>user</th>\n",
              "      <th>churn</th>\n",
              "      <th>age</th>\n",
              "      <th>housing</th>\n",
              "      <th>credit_score</th>\n",
              "      <th>deposits</th>\n",
              "      <th>withdrawal</th>\n",
              "      <th>purchases_partners</th>\n",
              "      <th>purchases</th>\n",
              "      <th>cc_taken</th>\n",
              "      <th>cc_recommended</th>\n",
              "      <th>cc_disliked</th>\n",
              "      <th>cc_liked</th>\n",
              "      <th>cc_application_begin</th>\n",
              "      <th>app_downloaded</th>\n",
              "      <th>web_user</th>\n",
              "      <th>app_web_user</th>\n",
              "      <th>ios_user</th>\n",
              "      <th>android_user</th>\n",
              "      <th>registered_phones</th>\n",
              "      <th>payment_type</th>\n",
              "      <th>waiting_4_loan</th>\n",
              "      <th>cancelled_loan</th>\n",
              "      <th>received_loan</th>\n",
              "      <th>rejected_loan</th>\n",
              "      <th>zodiac_sign</th>\n",
              "      <th>left_for_two_month_plus</th>\n",
              "      <th>left_for_one_month</th>\n",
              "      <th>rewards_earned</th>\n",
              "      <th>reward_rate</th>\n",
              "      <th>is_referred</th>\n",
              "    </tr>\n",
              "  </thead>\n",
              "  <tbody>\n",
              "    <tr>\n",
              "      <th>0</th>\n",
              "      <td>55409</td>\n",
              "      <td>0</td>\n",
              "      <td>37.0</td>\n",
              "      <td>na</td>\n",
              "      <td>NaN</td>\n",
              "      <td>0</td>\n",
              "      <td>0</td>\n",
              "      <td>0</td>\n",
              "      <td>0</td>\n",
              "      <td>0</td>\n",
              "      <td>0</td>\n",
              "      <td>0</td>\n",
              "      <td>0</td>\n",
              "      <td>0</td>\n",
              "      <td>1</td>\n",
              "      <td>1</td>\n",
              "      <td>1</td>\n",
              "      <td>1</td>\n",
              "      <td>0</td>\n",
              "      <td>0</td>\n",
              "      <td>Bi-Weekly</td>\n",
              "      <td>0</td>\n",
              "      <td>0</td>\n",
              "      <td>0</td>\n",
              "      <td>0</td>\n",
              "      <td>Leo</td>\n",
              "      <td>1</td>\n",
              "      <td>0</td>\n",
              "      <td>NaN</td>\n",
              "      <td>0.00</td>\n",
              "      <td>0</td>\n",
              "    </tr>\n",
              "    <tr>\n",
              "      <th>1</th>\n",
              "      <td>23547</td>\n",
              "      <td>0</td>\n",
              "      <td>28.0</td>\n",
              "      <td>R</td>\n",
              "      <td>486.0</td>\n",
              "      <td>0</td>\n",
              "      <td>0</td>\n",
              "      <td>1</td>\n",
              "      <td>0</td>\n",
              "      <td>0</td>\n",
              "      <td>96</td>\n",
              "      <td>0</td>\n",
              "      <td>0</td>\n",
              "      <td>5</td>\n",
              "      <td>1</td>\n",
              "      <td>1</td>\n",
              "      <td>1</td>\n",
              "      <td>1</td>\n",
              "      <td>0</td>\n",
              "      <td>0</td>\n",
              "      <td>Weekly</td>\n",
              "      <td>0</td>\n",
              "      <td>0</td>\n",
              "      <td>0</td>\n",
              "      <td>0</td>\n",
              "      <td>Leo</td>\n",
              "      <td>0</td>\n",
              "      <td>0</td>\n",
              "      <td>44.0</td>\n",
              "      <td>1.47</td>\n",
              "      <td>1</td>\n",
              "    </tr>\n",
              "    <tr>\n",
              "      <th>2</th>\n",
              "      <td>58313</td>\n",
              "      <td>0</td>\n",
              "      <td>35.0</td>\n",
              "      <td>R</td>\n",
              "      <td>561.0</td>\n",
              "      <td>47</td>\n",
              "      <td>2</td>\n",
              "      <td>86</td>\n",
              "      <td>47</td>\n",
              "      <td>0</td>\n",
              "      <td>285</td>\n",
              "      <td>0</td>\n",
              "      <td>0</td>\n",
              "      <td>9</td>\n",
              "      <td>1</td>\n",
              "      <td>0</td>\n",
              "      <td>0</td>\n",
              "      <td>0</td>\n",
              "      <td>1</td>\n",
              "      <td>2</td>\n",
              "      <td>Semi-Monthly</td>\n",
              "      <td>0</td>\n",
              "      <td>0</td>\n",
              "      <td>0</td>\n",
              "      <td>0</td>\n",
              "      <td>Capricorn</td>\n",
              "      <td>1</td>\n",
              "      <td>0</td>\n",
              "      <td>65.0</td>\n",
              "      <td>2.17</td>\n",
              "      <td>0</td>\n",
              "    </tr>\n",
              "    <tr>\n",
              "      <th>3</th>\n",
              "      <td>8095</td>\n",
              "      <td>0</td>\n",
              "      <td>26.0</td>\n",
              "      <td>R</td>\n",
              "      <td>567.0</td>\n",
              "      <td>26</td>\n",
              "      <td>3</td>\n",
              "      <td>38</td>\n",
              "      <td>25</td>\n",
              "      <td>0</td>\n",
              "      <td>74</td>\n",
              "      <td>0</td>\n",
              "      <td>0</td>\n",
              "      <td>26</td>\n",
              "      <td>1</td>\n",
              "      <td>0</td>\n",
              "      <td>0</td>\n",
              "      <td>0</td>\n",
              "      <td>1</td>\n",
              "      <td>0</td>\n",
              "      <td>Bi-Weekly</td>\n",
              "      <td>0</td>\n",
              "      <td>0</td>\n",
              "      <td>0</td>\n",
              "      <td>0</td>\n",
              "      <td>Capricorn</td>\n",
              "      <td>0</td>\n",
              "      <td>0</td>\n",
              "      <td>33.0</td>\n",
              "      <td>1.10</td>\n",
              "      <td>1</td>\n",
              "    </tr>\n",
              "    <tr>\n",
              "      <th>4</th>\n",
              "      <td>61353</td>\n",
              "      <td>1</td>\n",
              "      <td>27.0</td>\n",
              "      <td>na</td>\n",
              "      <td>NaN</td>\n",
              "      <td>0</td>\n",
              "      <td>0</td>\n",
              "      <td>2</td>\n",
              "      <td>0</td>\n",
              "      <td>0</td>\n",
              "      <td>0</td>\n",
              "      <td>0</td>\n",
              "      <td>0</td>\n",
              "      <td>0</td>\n",
              "      <td>1</td>\n",
              "      <td>1</td>\n",
              "      <td>1</td>\n",
              "      <td>0</td>\n",
              "      <td>1</td>\n",
              "      <td>0</td>\n",
              "      <td>Bi-Weekly</td>\n",
              "      <td>0</td>\n",
              "      <td>0</td>\n",
              "      <td>0</td>\n",
              "      <td>0</td>\n",
              "      <td>Aries</td>\n",
              "      <td>1</td>\n",
              "      <td>0</td>\n",
              "      <td>1.0</td>\n",
              "      <td>0.03</td>\n",
              "      <td>0</td>\n",
              "    </tr>\n",
              "  </tbody>\n",
              "</table>\n",
              "</div>"
            ],
            "text/plain": [
              "    user  churn   age  ... rewards_earned  reward_rate  is_referred\n",
              "0  55409      0  37.0  ...            NaN         0.00            0\n",
              "1  23547      0  28.0  ...           44.0         1.47            1\n",
              "2  58313      0  35.0  ...           65.0         2.17            0\n",
              "3   8095      0  26.0  ...           33.0         1.10            1\n",
              "4  61353      1  27.0  ...            1.0         0.03            0\n",
              "\n",
              "[5 rows x 31 columns]"
            ]
          },
          "metadata": {
            "tags": []
          },
          "execution_count": 6
        }
      ]
    },
    {
      "cell_type": "code",
      "metadata": {
        "id": "U6_PjnANvrUr",
        "colab_type": "code",
        "colab": {
          "base_uri": "https://localhost:8080/",
          "height": 181
        },
        "outputId": "1ac92c97-a39f-4f90-c01e-dff85e62b308"
      },
      "source": [
        "dataset.columns"
      ],
      "execution_count": 7,
      "outputs": [
        {
          "output_type": "execute_result",
          "data": {
            "text/plain": [
              "Index(['user', 'churn', 'age', 'housing', 'credit_score', 'deposits',\n",
              "       'withdrawal', 'purchases_partners', 'purchases', 'cc_taken',\n",
              "       'cc_recommended', 'cc_disliked', 'cc_liked', 'cc_application_begin',\n",
              "       'app_downloaded', 'web_user', 'app_web_user', 'ios_user',\n",
              "       'android_user', 'registered_phones', 'payment_type', 'waiting_4_loan',\n",
              "       'cancelled_loan', 'received_loan', 'rejected_loan', 'zodiac_sign',\n",
              "       'left_for_two_month_plus', 'left_for_one_month', 'rewards_earned',\n",
              "       'reward_rate', 'is_referred'],\n",
              "      dtype='object')"
            ]
          },
          "metadata": {
            "tags": []
          },
          "execution_count": 7
        }
      ]
    },
    {
      "cell_type": "code",
      "metadata": {
        "id": "pd5dOXSUv1Td",
        "colab_type": "code",
        "colab": {
          "base_uri": "https://localhost:8080/",
          "height": 320
        },
        "outputId": "860f5f03-bb9b-4711-8d10-82be6ab04502"
      },
      "source": [
        "dataset.describe()"
      ],
      "execution_count": 8,
      "outputs": [
        {
          "output_type": "execute_result",
          "data": {
            "text/html": [
              "<div>\n",
              "<style scoped>\n",
              "    .dataframe tbody tr th:only-of-type {\n",
              "        vertical-align: middle;\n",
              "    }\n",
              "\n",
              "    .dataframe tbody tr th {\n",
              "        vertical-align: top;\n",
              "    }\n",
              "\n",
              "    .dataframe thead th {\n",
              "        text-align: right;\n",
              "    }\n",
              "</style>\n",
              "<table border=\"1\" class=\"dataframe\">\n",
              "  <thead>\n",
              "    <tr style=\"text-align: right;\">\n",
              "      <th></th>\n",
              "      <th>user</th>\n",
              "      <th>churn</th>\n",
              "      <th>age</th>\n",
              "      <th>credit_score</th>\n",
              "      <th>deposits</th>\n",
              "      <th>withdrawal</th>\n",
              "      <th>purchases_partners</th>\n",
              "      <th>purchases</th>\n",
              "      <th>cc_taken</th>\n",
              "      <th>cc_recommended</th>\n",
              "      <th>cc_disliked</th>\n",
              "      <th>cc_liked</th>\n",
              "      <th>cc_application_begin</th>\n",
              "      <th>app_downloaded</th>\n",
              "      <th>web_user</th>\n",
              "      <th>app_web_user</th>\n",
              "      <th>ios_user</th>\n",
              "      <th>android_user</th>\n",
              "      <th>registered_phones</th>\n",
              "      <th>waiting_4_loan</th>\n",
              "      <th>cancelled_loan</th>\n",
              "      <th>received_loan</th>\n",
              "      <th>rejected_loan</th>\n",
              "      <th>left_for_two_month_plus</th>\n",
              "      <th>left_for_one_month</th>\n",
              "      <th>rewards_earned</th>\n",
              "      <th>reward_rate</th>\n",
              "      <th>is_referred</th>\n",
              "    </tr>\n",
              "  </thead>\n",
              "  <tbody>\n",
              "    <tr>\n",
              "      <th>count</th>\n",
              "      <td>27000.000000</td>\n",
              "      <td>27000.000000</td>\n",
              "      <td>26996.000000</td>\n",
              "      <td>18969.000000</td>\n",
              "      <td>27000.000000</td>\n",
              "      <td>27000.000000</td>\n",
              "      <td>27000.000000</td>\n",
              "      <td>27000.000000</td>\n",
              "      <td>27000.000000</td>\n",
              "      <td>27000.000000</td>\n",
              "      <td>27000.000000</td>\n",
              "      <td>27000.000000</td>\n",
              "      <td>27000.000000</td>\n",
              "      <td>27000.000000</td>\n",
              "      <td>27000.000000</td>\n",
              "      <td>27000.000000</td>\n",
              "      <td>27000.000000</td>\n",
              "      <td>27000.000000</td>\n",
              "      <td>27000.000000</td>\n",
              "      <td>27000.000000</td>\n",
              "      <td>27000.000000</td>\n",
              "      <td>27000.000000</td>\n",
              "      <td>27000.000000</td>\n",
              "      <td>27000.000000</td>\n",
              "      <td>27000.000000</td>\n",
              "      <td>23773.000000</td>\n",
              "      <td>27000.000000</td>\n",
              "      <td>27000.000000</td>\n",
              "    </tr>\n",
              "    <tr>\n",
              "      <th>mean</th>\n",
              "      <td>35422.702519</td>\n",
              "      <td>0.413852</td>\n",
              "      <td>32.219921</td>\n",
              "      <td>542.944225</td>\n",
              "      <td>3.341556</td>\n",
              "      <td>0.307000</td>\n",
              "      <td>28.062519</td>\n",
              "      <td>3.273481</td>\n",
              "      <td>0.073778</td>\n",
              "      <td>92.625778</td>\n",
              "      <td>0.050630</td>\n",
              "      <td>0.013111</td>\n",
              "      <td>8.197852</td>\n",
              "      <td>0.952481</td>\n",
              "      <td>0.606074</td>\n",
              "      <td>0.561741</td>\n",
              "      <td>0.393926</td>\n",
              "      <td>0.587259</td>\n",
              "      <td>0.420926</td>\n",
              "      <td>0.001296</td>\n",
              "      <td>0.018815</td>\n",
              "      <td>0.018185</td>\n",
              "      <td>0.004889</td>\n",
              "      <td>0.173444</td>\n",
              "      <td>0.018074</td>\n",
              "      <td>29.110125</td>\n",
              "      <td>0.907684</td>\n",
              "      <td>0.318037</td>\n",
              "    </tr>\n",
              "    <tr>\n",
              "      <th>std</th>\n",
              "      <td>20321.006678</td>\n",
              "      <td>0.492532</td>\n",
              "      <td>9.964838</td>\n",
              "      <td>61.059315</td>\n",
              "      <td>9.131406</td>\n",
              "      <td>1.055416</td>\n",
              "      <td>42.219686</td>\n",
              "      <td>8.953077</td>\n",
              "      <td>0.437299</td>\n",
              "      <td>88.869343</td>\n",
              "      <td>0.871366</td>\n",
              "      <td>0.238158</td>\n",
              "      <td>12.497243</td>\n",
              "      <td>0.212749</td>\n",
              "      <td>0.488628</td>\n",
              "      <td>0.496183</td>\n",
              "      <td>0.488628</td>\n",
              "      <td>0.492336</td>\n",
              "      <td>0.912831</td>\n",
              "      <td>0.035981</td>\n",
              "      <td>0.135873</td>\n",
              "      <td>0.133623</td>\n",
              "      <td>0.069751</td>\n",
              "      <td>0.378638</td>\n",
              "      <td>0.133222</td>\n",
              "      <td>21.973478</td>\n",
              "      <td>0.752016</td>\n",
              "      <td>0.465723</td>\n",
              "    </tr>\n",
              "    <tr>\n",
              "      <th>min</th>\n",
              "      <td>1.000000</td>\n",
              "      <td>0.000000</td>\n",
              "      <td>17.000000</td>\n",
              "      <td>2.000000</td>\n",
              "      <td>0.000000</td>\n",
              "      <td>0.000000</td>\n",
              "      <td>0.000000</td>\n",
              "      <td>0.000000</td>\n",
              "      <td>0.000000</td>\n",
              "      <td>0.000000</td>\n",
              "      <td>0.000000</td>\n",
              "      <td>0.000000</td>\n",
              "      <td>0.000000</td>\n",
              "      <td>0.000000</td>\n",
              "      <td>0.000000</td>\n",
              "      <td>0.000000</td>\n",
              "      <td>0.000000</td>\n",
              "      <td>0.000000</td>\n",
              "      <td>0.000000</td>\n",
              "      <td>0.000000</td>\n",
              "      <td>0.000000</td>\n",
              "      <td>0.000000</td>\n",
              "      <td>0.000000</td>\n",
              "      <td>0.000000</td>\n",
              "      <td>0.000000</td>\n",
              "      <td>1.000000</td>\n",
              "      <td>0.000000</td>\n",
              "      <td>0.000000</td>\n",
              "    </tr>\n",
              "    <tr>\n",
              "      <th>25%</th>\n",
              "      <td>17810.500000</td>\n",
              "      <td>0.000000</td>\n",
              "      <td>25.000000</td>\n",
              "      <td>507.000000</td>\n",
              "      <td>0.000000</td>\n",
              "      <td>0.000000</td>\n",
              "      <td>0.000000</td>\n",
              "      <td>0.000000</td>\n",
              "      <td>0.000000</td>\n",
              "      <td>10.000000</td>\n",
              "      <td>0.000000</td>\n",
              "      <td>0.000000</td>\n",
              "      <td>0.000000</td>\n",
              "      <td>1.000000</td>\n",
              "      <td>0.000000</td>\n",
              "      <td>0.000000</td>\n",
              "      <td>0.000000</td>\n",
              "      <td>0.000000</td>\n",
              "      <td>0.000000</td>\n",
              "      <td>0.000000</td>\n",
              "      <td>0.000000</td>\n",
              "      <td>0.000000</td>\n",
              "      <td>0.000000</td>\n",
              "      <td>0.000000</td>\n",
              "      <td>0.000000</td>\n",
              "      <td>9.000000</td>\n",
              "      <td>0.200000</td>\n",
              "      <td>0.000000</td>\n",
              "    </tr>\n",
              "    <tr>\n",
              "      <th>50%</th>\n",
              "      <td>35749.000000</td>\n",
              "      <td>0.000000</td>\n",
              "      <td>30.000000</td>\n",
              "      <td>542.000000</td>\n",
              "      <td>0.000000</td>\n",
              "      <td>0.000000</td>\n",
              "      <td>9.000000</td>\n",
              "      <td>0.000000</td>\n",
              "      <td>0.000000</td>\n",
              "      <td>65.000000</td>\n",
              "      <td>0.000000</td>\n",
              "      <td>0.000000</td>\n",
              "      <td>4.000000</td>\n",
              "      <td>1.000000</td>\n",
              "      <td>1.000000</td>\n",
              "      <td>1.000000</td>\n",
              "      <td>0.000000</td>\n",
              "      <td>1.000000</td>\n",
              "      <td>0.000000</td>\n",
              "      <td>0.000000</td>\n",
              "      <td>0.000000</td>\n",
              "      <td>0.000000</td>\n",
              "      <td>0.000000</td>\n",
              "      <td>0.000000</td>\n",
              "      <td>0.000000</td>\n",
              "      <td>25.000000</td>\n",
              "      <td>0.780000</td>\n",
              "      <td>0.000000</td>\n",
              "    </tr>\n",
              "    <tr>\n",
              "      <th>75%</th>\n",
              "      <td>53244.250000</td>\n",
              "      <td>1.000000</td>\n",
              "      <td>37.000000</td>\n",
              "      <td>578.000000</td>\n",
              "      <td>1.000000</td>\n",
              "      <td>0.000000</td>\n",
              "      <td>43.000000</td>\n",
              "      <td>1.000000</td>\n",
              "      <td>0.000000</td>\n",
              "      <td>164.000000</td>\n",
              "      <td>0.000000</td>\n",
              "      <td>0.000000</td>\n",
              "      <td>11.000000</td>\n",
              "      <td>1.000000</td>\n",
              "      <td>1.000000</td>\n",
              "      <td>1.000000</td>\n",
              "      <td>1.000000</td>\n",
              "      <td>1.000000</td>\n",
              "      <td>0.000000</td>\n",
              "      <td>0.000000</td>\n",
              "      <td>0.000000</td>\n",
              "      <td>0.000000</td>\n",
              "      <td>0.000000</td>\n",
              "      <td>0.000000</td>\n",
              "      <td>0.000000</td>\n",
              "      <td>48.000000</td>\n",
              "      <td>1.530000</td>\n",
              "      <td>1.000000</td>\n",
              "    </tr>\n",
              "    <tr>\n",
              "      <th>max</th>\n",
              "      <td>69658.000000</td>\n",
              "      <td>1.000000</td>\n",
              "      <td>91.000000</td>\n",
              "      <td>838.000000</td>\n",
              "      <td>65.000000</td>\n",
              "      <td>29.000000</td>\n",
              "      <td>1067.000000</td>\n",
              "      <td>63.000000</td>\n",
              "      <td>29.000000</td>\n",
              "      <td>522.000000</td>\n",
              "      <td>65.000000</td>\n",
              "      <td>27.000000</td>\n",
              "      <td>263.000000</td>\n",
              "      <td>1.000000</td>\n",
              "      <td>1.000000</td>\n",
              "      <td>1.000000</td>\n",
              "      <td>1.000000</td>\n",
              "      <td>1.000000</td>\n",
              "      <td>5.000000</td>\n",
              "      <td>1.000000</td>\n",
              "      <td>1.000000</td>\n",
              "      <td>1.000000</td>\n",
              "      <td>1.000000</td>\n",
              "      <td>1.000000</td>\n",
              "      <td>1.000000</td>\n",
              "      <td>114.000000</td>\n",
              "      <td>4.000000</td>\n",
              "      <td>1.000000</td>\n",
              "    </tr>\n",
              "  </tbody>\n",
              "</table>\n",
              "</div>"
            ],
            "text/plain": [
              "               user         churn  ...   reward_rate   is_referred\n",
              "count  27000.000000  27000.000000  ...  27000.000000  27000.000000\n",
              "mean   35422.702519      0.413852  ...      0.907684      0.318037\n",
              "std    20321.006678      0.492532  ...      0.752016      0.465723\n",
              "min        1.000000      0.000000  ...      0.000000      0.000000\n",
              "25%    17810.500000      0.000000  ...      0.200000      0.000000\n",
              "50%    35749.000000      0.000000  ...      0.780000      0.000000\n",
              "75%    53244.250000      1.000000  ...      1.530000      1.000000\n",
              "max    69658.000000      1.000000  ...      4.000000      1.000000\n",
              "\n",
              "[8 rows x 28 columns]"
            ]
          },
          "metadata": {
            "tags": []
          },
          "execution_count": 8
        }
      ]
    },
    {
      "cell_type": "code",
      "metadata": {
        "id": "Vk4Wrciwv3jD",
        "colab_type": "code",
        "colab": {
          "base_uri": "https://localhost:8080/",
          "height": 598
        },
        "outputId": "5dc786a7-e464-48e0-b57e-255485eb7631"
      },
      "source": [
        "dataset.isnull().sum()"
      ],
      "execution_count": 9,
      "outputs": [
        {
          "output_type": "execute_result",
          "data": {
            "text/plain": [
              "user                          0\n",
              "churn                         0\n",
              "age                           4\n",
              "housing                       0\n",
              "credit_score               8031\n",
              "deposits                      0\n",
              "withdrawal                    0\n",
              "purchases_partners            0\n",
              "purchases                     0\n",
              "cc_taken                      0\n",
              "cc_recommended                0\n",
              "cc_disliked                   0\n",
              "cc_liked                      0\n",
              "cc_application_begin          0\n",
              "app_downloaded                0\n",
              "web_user                      0\n",
              "app_web_user                  0\n",
              "ios_user                      0\n",
              "android_user                  0\n",
              "registered_phones             0\n",
              "payment_type                  0\n",
              "waiting_4_loan                0\n",
              "cancelled_loan                0\n",
              "received_loan                 0\n",
              "rejected_loan                 0\n",
              "zodiac_sign                   0\n",
              "left_for_two_month_plus       0\n",
              "left_for_one_month            0\n",
              "rewards_earned             3227\n",
              "reward_rate                   0\n",
              "is_referred                   0\n",
              "dtype: int64"
            ]
          },
          "metadata": {
            "tags": []
          },
          "execution_count": 9
        }
      ]
    },
    {
      "cell_type": "code",
      "metadata": {
        "id": "Dz4cORo2v5fw",
        "colab_type": "code",
        "colab": {}
      },
      "source": [
        "dataset= dataset[pd.notnull(dataset['age'])]"
      ],
      "execution_count": 10,
      "outputs": []
    },
    {
      "cell_type": "code",
      "metadata": {
        "id": "lhVQzlZYv7vn",
        "colab_type": "code",
        "colab": {
          "base_uri": "https://localhost:8080/",
          "height": 35
        },
        "outputId": "f7d9c891-029c-477b-821c-1a4ad9360ab7"
      },
      "source": [
        "dataset.shape"
      ],
      "execution_count": 11,
      "outputs": [
        {
          "output_type": "execute_result",
          "data": {
            "text/plain": [
              "(26996, 31)"
            ]
          },
          "metadata": {
            "tags": []
          },
          "execution_count": 11
        }
      ]
    },
    {
      "cell_type": "code",
      "metadata": {
        "id": "fYnZ7eESv-eE",
        "colab_type": "code",
        "colab": {}
      },
      "source": [
        "dataset= dataset.drop(columns= ['credit_score', 'rewards_earned'])"
      ],
      "execution_count": 12,
      "outputs": []
    },
    {
      "cell_type": "code",
      "metadata": {
        "id": "42_l7CrDwAqO",
        "colab_type": "code",
        "colab": {}
      },
      "source": [
        "#Data Visualisation\n",
        "#Histograms\n",
        "dataset2=  dataset.drop(columns= ['user', 'churn'])"
      ],
      "execution_count": 13,
      "outputs": []
    },
    {
      "cell_type": "code",
      "metadata": {
        "id": "UMjkfDapwGtG",
        "colab_type": "code",
        "colab": {
          "base_uri": "https://localhost:8080/",
          "height": 938
        },
        "outputId": "b08b346f-6533-48e2-9a25-50fe0c1b2d9c"
      },
      "source": [
        "#histograms\n",
        "plt.figure(figsize=(15, 15))\n",
        "plt.suptitle(\"histogram of Numerical Column\")\n",
        "for i in range(1, dataset2.shape[1]+1):\n",
        "  plt.subplot(8, 4, i)\n",
        "  f= plt.gca()\n",
        "  f.set_title(dataset2.columns[i-1])\n",
        "\n",
        "  val= np.size(dataset2.iloc[:, i-1].unique())\n",
        "  plt.hist(dataset2.iloc[:, i-1], bins= val)\n",
        "plt.tight_layout(rect= [0, 0.03, 1, 0.95])"
      ],
      "execution_count": 14,
      "outputs": [
        {
          "output_type": "display_data",
          "data": {
            "image/png": "[encoded data removed]",
            "text/plain": [
              "<Figure size 1080x1080 with 27 Axes>"
            ]
          },
          "metadata": {
            "tags": [],
            "needs_background": "light"
          }
        }
      ]
    },
    {
      "cell_type": "code",
      "metadata": {
        "id": "LWemzX_h6A5A",
        "colab_type": "code",
        "colab": {
          "base_uri": "https://localhost:8080/",
          "height": 162
        },
        "outputId": "d3b3aa97-49b1-4fe9-9a2e-8efdb94f4d8a"
      },
      "source": [
        "dataset2.keys()"
      ],
      "execution_count": 15,
      "outputs": [
        {
          "output_type": "execute_result",
          "data": {
            "text/plain": [
              "Index(['age', 'housing', 'deposits', 'withdrawal', 'purchases_partners',\n",
              "       'purchases', 'cc_taken', 'cc_recommended', 'cc_disliked', 'cc_liked',\n",
              "       'cc_application_begin', 'app_downloaded', 'web_user', 'app_web_user',\n",
              "       'ios_user', 'android_user', 'registered_phones', 'payment_type',\n",
              "       'waiting_4_loan', 'cancelled_loan', 'received_loan', 'rejected_loan',\n",
              "       'zodiac_sign', 'left_for_two_month_plus', 'left_for_one_month',\n",
              "       'reward_rate', 'is_referred'],\n",
              "      dtype='object')"
            ]
          },
          "metadata": {
            "tags": []
          },
          "execution_count": 15
        }
      ]
    },
    {
      "cell_type": "code",
      "metadata": {
        "id": "lzFOo2Sz6Gpj",
        "colab_type": "code",
        "colab": {}
      },
      "source": [
        "obj_col= ['housing', 'cc_application_begin', 'app_downloaded', 'web_user', 'app_web_user',\n",
        "       'ios_user', 'android_user', 'registered_phones', 'payment_type',\n",
        "       'waiting_4_loan', 'cancelled_loan', 'received_loan', 'rejected_loan',\n",
        "       'zodiac_sign', 'left_for_two_month_plus', 'left_for_one_month', 'is_referred']"
      ],
      "execution_count": 16,
      "outputs": []
    },
    {
      "cell_type": "code",
      "metadata": {
        "id": "qRKR3TO46GtP",
        "colab_type": "code",
        "colab": {}
      },
      "source": [
        "dataset2= dataset[obj_col]"
      ],
      "execution_count": 17,
      "outputs": []
    },
    {
      "cell_type": "code",
      "metadata": {
        "id": "A-SskJVp8iu4",
        "colab_type": "code",
        "colab": {
          "base_uri": "https://localhost:8080/",
          "height": 226
        },
        "outputId": "1c5e62c3-140a-4491-9cd1-dcb0f7c8ff29"
      },
      "source": [
        "dataset2.head()"
      ],
      "execution_count": 18,
      "outputs": [
        {
          "output_type": "execute_result",
          "data": {
            "text/html": [
              "<div>\n",
              "<style scoped>\n",
              "    .dataframe tbody tr th:only-of-type {\n",
              "        vertical-align: middle;\n",
              "    }\n",
              "\n",
              "    .dataframe tbody tr th {\n",
              "        vertical-align: top;\n",
              "    }\n",
              "\n",
              "    .dataframe thead th {\n",
              "        text-align: right;\n",
              "    }\n",
              "</style>\n",
              "<table border=\"1\" class=\"dataframe\">\n",
              "  <thead>\n",
              "    <tr style=\"text-align: right;\">\n",
              "      <th></th>\n",
              "      <th>housing</th>\n",
              "      <th>cc_application_begin</th>\n",
              "      <th>app_downloaded</th>\n",
              "      <th>web_user</th>\n",
              "      <th>app_web_user</th>\n",
              "      <th>ios_user</th>\n",
              "      <th>android_user</th>\n",
              "      <th>registered_phones</th>\n",
              "      <th>payment_type</th>\n",
              "      <th>waiting_4_loan</th>\n",
              "      <th>cancelled_loan</th>\n",
              "      <th>received_loan</th>\n",
              "      <th>rejected_loan</th>\n",
              "      <th>zodiac_sign</th>\n",
              "      <th>left_for_two_month_plus</th>\n",
              "      <th>left_for_one_month</th>\n",
              "      <th>is_referred</th>\n",
              "    </tr>\n",
              "  </thead>\n",
              "  <tbody>\n",
              "    <tr>\n",
              "      <th>0</th>\n",
              "      <td>na</td>\n",
              "      <td>0</td>\n",
              "      <td>1</td>\n",
              "      <td>1</td>\n",
              "      <td>1</td>\n",
              "      <td>1</td>\n",
              "      <td>0</td>\n",
              "      <td>0</td>\n",
              "      <td>Bi-Weekly</td>\n",
              "      <td>0</td>\n",
              "      <td>0</td>\n",
              "      <td>0</td>\n",
              "      <td>0</td>\n",
              "      <td>Leo</td>\n",
              "      <td>1</td>\n",
              "      <td>0</td>\n",
              "      <td>0</td>\n",
              "    </tr>\n",
              "    <tr>\n",
              "      <th>1</th>\n",
              "      <td>R</td>\n",
              "      <td>5</td>\n",
              "      <td>1</td>\n",
              "      <td>1</td>\n",
              "      <td>1</td>\n",
              "      <td>1</td>\n",
              "      <td>0</td>\n",
              "      <td>0</td>\n",
              "      <td>Weekly</td>\n",
              "      <td>0</td>\n",
              "      <td>0</td>\n",
              "      <td>0</td>\n",
              "      <td>0</td>\n",
              "      <td>Leo</td>\n",
              "      <td>0</td>\n",
              "      <td>0</td>\n",
              "      <td>1</td>\n",
              "    </tr>\n",
              "    <tr>\n",
              "      <th>2</th>\n",
              "      <td>R</td>\n",
              "      <td>9</td>\n",
              "      <td>1</td>\n",
              "      <td>0</td>\n",
              "      <td>0</td>\n",
              "      <td>0</td>\n",
              "      <td>1</td>\n",
              "      <td>2</td>\n",
              "      <td>Semi-Monthly</td>\n",
              "      <td>0</td>\n",
              "      <td>0</td>\n",
              "      <td>0</td>\n",
              "      <td>0</td>\n",
              "      <td>Capricorn</td>\n",
              "      <td>1</td>\n",
              "      <td>0</td>\n",
              "      <td>0</td>\n",
              "    </tr>\n",
              "    <tr>\n",
              "      <th>3</th>\n",
              "      <td>R</td>\n",
              "      <td>26</td>\n",
              "      <td>1</td>\n",
              "      <td>0</td>\n",
              "      <td>0</td>\n",
              "      <td>0</td>\n",
              "      <td>1</td>\n",
              "      <td>0</td>\n",
              "      <td>Bi-Weekly</td>\n",
              "      <td>0</td>\n",
              "      <td>0</td>\n",
              "      <td>0</td>\n",
              "      <td>0</td>\n",
              "      <td>Capricorn</td>\n",
              "      <td>0</td>\n",
              "      <td>0</td>\n",
              "      <td>1</td>\n",
              "    </tr>\n",
              "    <tr>\n",
              "      <th>4</th>\n",
              "      <td>na</td>\n",
              "      <td>0</td>\n",
              "      <td>1</td>\n",
              "      <td>1</td>\n",
              "      <td>1</td>\n",
              "      <td>0</td>\n",
              "      <td>1</td>\n",
              "      <td>0</td>\n",
              "      <td>Bi-Weekly</td>\n",
              "      <td>0</td>\n",
              "      <td>0</td>\n",
              "      <td>0</td>\n",
              "      <td>0</td>\n",
              "      <td>Aries</td>\n",
              "      <td>1</td>\n",
              "      <td>0</td>\n",
              "      <td>0</td>\n",
              "    </tr>\n",
              "  </tbody>\n",
              "</table>\n",
              "</div>"
            ],
            "text/plain": [
              "  housing  cc_application_begin  ...  left_for_one_month  is_referred\n",
              "0      na                     0  ...                   0            0\n",
              "1       R                     5  ...                   0            1\n",
              "2       R                     9  ...                   0            0\n",
              "3       R                    26  ...                   0            1\n",
              "4      na                     0  ...                   0            0\n",
              "\n",
              "[5 rows x 17 columns]"
            ]
          },
          "metadata": {
            "tags": []
          },
          "execution_count": 18
        }
      ]
    },
    {
      "cell_type": "code",
      "metadata": {
        "id": "orTE_kwf4JMq",
        "colab_type": "code",
        "colab": {
          "base_uri": "https://localhost:8080/",
          "height": 1000
        },
        "outputId": "8fe34bfc-ec1c-4df0-c77a-f5c490f334ff"
      },
      "source": [
        "#Pie Chart for Binary Columns\n",
        "plt.figure(figsize=(15, 15))\n",
        "plt.suptitle(\"Pie of Numerical Column\")\n",
        "for i in range(1, dataset2.shape[1]+1):\n",
        "  plt.subplot(6, 3, i)\n",
        "  f= plt.gca()\n",
        "  f.set_title(dataset2.columns[i-1])\n",
        "  values= dataset2.iloc[:, i-1].value_counts(normalize= True).values\n",
        "  index= dataset2.iloc[:, i-1].value_counts(normalize= True).index\n",
        "  plt.pie(values, labels= index, autopct= '%1.1f%%')\n",
        "plt.tight_layout(rect= [0, 0.03, 1, 0.95])"
      ],
      "execution_count": 19,
      "outputs": [
        {
          "output_type": "display_data",
          "data": {
            "image/png": "[encoded data removed]",
            "text/plain": [
              "<Figure size 1080x1080 with 17 Axes>"
            ]
          },
          "metadata": {
            "tags": []
          }
        }
      ]
    },
    {
      "cell_type": "code",
      "metadata": {
        "id": "EmOq1eWu8Sce",
        "colab_type": "code",
        "colab": {
          "base_uri": "https://localhost:8080/",
          "height": 72
        },
        "outputId": "e9ed7ac6-4679-4a44-d143-8f98ee11ef0e"
      },
      "source": [
        "dataset[dataset2.waiting_4_loan==1].churn.value_counts()"
      ],
      "execution_count": 20,
      "outputs": [
        {
          "output_type": "execute_result",
          "data": {
            "text/plain": [
              "0    27\n",
              "1     8\n",
              "Name: churn, dtype: int64"
            ]
          },
          "metadata": {
            "tags": []
          },
          "execution_count": 20
        }
      ]
    },
    {
      "cell_type": "code",
      "metadata": {
        "id": "YRN9zy689f4w",
        "colab_type": "code",
        "colab": {
          "base_uri": "https://localhost:8080/",
          "height": 72
        },
        "outputId": "ac6de53b-9fec-4ee1-d0be-1797d7391e03"
      },
      "source": [
        "dataset[dataset2.cancelled_loan==1].churn.value_counts()"
      ],
      "execution_count": 21,
      "outputs": [
        {
          "output_type": "execute_result",
          "data": {
            "text/plain": [
              "1    274\n",
              "0    234\n",
              "Name: churn, dtype: int64"
            ]
          },
          "metadata": {
            "tags": []
          },
          "execution_count": 21
        }
      ]
    },
    {
      "cell_type": "code",
      "metadata": {
        "id": "iTxxq0tu_LFo",
        "colab_type": "code",
        "colab": {
          "base_uri": "https://localhost:8080/",
          "height": 72
        },
        "outputId": "064d63d4-40a0-4aa5-a350-a318c44a5981"
      },
      "source": [
        "dataset[dataset2.received_loan==1].churn.value_counts()"
      ],
      "execution_count": 22,
      "outputs": [
        {
          "output_type": "execute_result",
          "data": {
            "text/plain": [
              "1    292\n",
              "0    199\n",
              "Name: churn, dtype: int64"
            ]
          },
          "metadata": {
            "tags": []
          },
          "execution_count": 22
        }
      ]
    },
    {
      "cell_type": "code",
      "metadata": {
        "id": "aBoXsbDR_QjW",
        "colab_type": "code",
        "colab": {
          "base_uri": "https://localhost:8080/",
          "height": 72
        },
        "outputId": "79e18a67-1101-489d-c5a7-657343be3928"
      },
      "source": [
        "dataset[dataset2.rejected_loan==1].churn.value_counts()"
      ],
      "execution_count": 23,
      "outputs": [
        {
          "output_type": "execute_result",
          "data": {
            "text/plain": [
              "1    107\n",
              "0     25\n",
              "Name: churn, dtype: int64"
            ]
          },
          "metadata": {
            "tags": []
          },
          "execution_count": 23
        }
      ]
    },
    {
      "cell_type": "code",
      "metadata": {
        "id": "YN3osbvB_UlS",
        "colab_type": "code",
        "colab": {
          "base_uri": "https://localhost:8080/",
          "height": 72
        },
        "outputId": "c2689aa3-e57b-41b5-ddb8-610dec1e76d4"
      },
      "source": [
        "dataset[dataset2.left_for_one_month==1].churn.value_counts()"
      ],
      "execution_count": 24,
      "outputs": [
        {
          "output_type": "execute_result",
          "data": {
            "text/plain": [
              "1    266\n",
              "0    222\n",
              "Name: churn, dtype: int64"
            ]
          },
          "metadata": {
            "tags": []
          },
          "execution_count": 24
        }
      ]
    },
    {
      "cell_type": "code",
      "metadata": {
        "id": "qNmqMZkk_qUB",
        "colab_type": "code",
        "colab": {
          "base_uri": "https://localhost:8080/",
          "height": 600
        },
        "outputId": "a635a7c1-7008-4a6b-96bb-6c62ddeefb03"
      },
      "source": [
        "dataset.drop(columns= ['churn', 'user', 'housing',\n",
        "                       'payment_type', 'zodiac_sign']).corrwith(dataset.churn).plot.bar(\n",
        "                           figsize= (18,8), title= 'correlation with response', fontsize= 10,\n",
        "                           rot= 45, grid= True\n",
        "                       )"
      ],
      "execution_count": 25,
      "outputs": [
        {
          "output_type": "execute_result",
          "data": {
            "text/plain": [
              "<matplotlib.axes._subplots.AxesSubplot at 0x7f65e31a1320>"
            ]
          },
          "metadata": {
            "tags": []
          },
          "execution_count": 25
        },
        {
          "output_type": "display_data",
          "data": {
            "image/png": "[encoded data removed]",
            "text/plain": [
              "<Figure size 1296x576 with 1 Axes>"
            ]
          },
          "metadata": {
            "tags": [],
            "needs_background": "light"
          }
        }
      ]
    },
    {
      "cell_type": "code",
      "metadata": {
        "id": "AYfcgCs2AvJN",
        "colab_type": "code",
        "colab": {}
      },
      "source": [
        "# Correlation Matrix\n",
        "corr= dataset.drop(columns=['user', 'churn']).corr()"
      ],
      "execution_count": 26,
      "outputs": []
    },
    {
      "cell_type": "code",
      "metadata": {
        "id": "ZzWimajyoH_W",
        "colab_type": "code",
        "colab": {
          "base_uri": "https://localhost:8080/",
          "height": 833
        },
        "outputId": "0229392c-9cfd-404e-a0d4-d2f800fa8748"
      },
      "source": [
        "plt.figure(figsize= (15, 12))\n",
        "sns.heatmap(corr, annot= True)"
      ],
      "execution_count": 37,
      "outputs": [
        {
          "output_type": "execute_result",
          "data": {
            "text/plain": [
              "<matplotlib.axes._subplots.AxesSubplot at 0x7f65d75883c8>"
            ]
          },
          "metadata": {
            "tags": []
          },
          "execution_count": 37
        },
        {
          "output_type": "display_data",
          "data": {
            "image/png": "[encoded data removed]",
            "text/plain": [
              "<Figure size 1080x864 with 2 Axes>"
            ]
          },
          "metadata": {
            "tags": [],
            "needs_background": "light"
          }
        }
      ]
    },
    {
      "cell_type": "code",
      "metadata": {
        "id": "CxC7N6R-oJXQ",
        "colab_type": "code",
        "colab": {}
      },
      "source": [
        "dataset= dataset.drop(columns= 'app_web_user')"
      ],
      "execution_count": 38,
      "outputs": []
    },
    {
      "cell_type": "code",
      "metadata": {
        "id": "luadSxoJq0t0",
        "colab_type": "code",
        "colab": {
          "base_uri": "https://localhost:8080/",
          "height": 35
        },
        "outputId": "e3fffc50-a6f9-4b11-e719-11c5a50c4748"
      },
      "source": [
        "dataset.shape"
      ],
      "execution_count": 39,
      "outputs": [
        {
          "output_type": "execute_result",
          "data": {
            "text/plain": [
              "(26996, 28)"
            ]
          },
          "metadata": {
            "tags": []
          },
          "execution_count": 39
        }
      ]
    },
    {
      "cell_type": "code",
      "metadata": {
        "id": "PguTHSgFrG5_",
        "colab_type": "code",
        "colab": {}
      },
      "source": [
        "dataset.to_csv('new_churn_data.csv', index= False)"
      ],
      "execution_count": 40,
      "outputs": []
    },
    {
      "cell_type": "code",
      "metadata": {
        "id": "SNXAVcW7rRi6",
        "colab_type": "code",
        "colab": {
          "base_uri": "https://localhost:8080/",
          "height": 226
        },
        "outputId": "63475a09-c064-4bc8-e5f0-55e394a50d33"
      },
      "source": [
        "dataset.head()"
      ],
      "execution_count": 41,
      "outputs": [
        {
          "output_type": "execute_result",
          "data": {
            "text/html": [
              "<div>\n",
              "<style scoped>\n",
              "    .dataframe tbody tr th:only-of-type {\n",
              "        vertical-align: middle;\n",
              "    }\n",
              "\n",
              "    .dataframe tbody tr th {\n",
              "        vertical-align: top;\n",
              "    }\n",
              "\n",
              "    .dataframe thead th {\n",
              "        text-align: right;\n",
              "    }\n",
              "</style>\n",
              "<table border=\"1\" class=\"dataframe\">\n",
              "  <thead>\n",
              "    <tr style=\"text-align: right;\">\n",
              "      <th></th>\n",
              "      <th>user</th>\n",
              "      <th>churn</th>\n",
              "      <th>age</th>\n",
              "      <th>housing</th>\n",
              "      <th>deposits</th>\n",
              "      <th>withdrawal</th>\n",
              "      <th>purchases_partners</th>\n",
              "      <th>purchases</th>\n",
              "      <th>cc_taken</th>\n",
              "      <th>cc_recommended</th>\n",
              "      <th>cc_disliked</th>\n",
              "      <th>cc_liked</th>\n",
              "      <th>cc_application_begin</th>\n",
              "      <th>app_downloaded</th>\n",
              "      <th>web_user</th>\n",
              "      <th>ios_user</th>\n",
              "      <th>android_user</th>\n",
              "      <th>registered_phones</th>\n",
              "      <th>payment_type</th>\n",
              "      <th>waiting_4_loan</th>\n",
              "      <th>cancelled_loan</th>\n",
              "      <th>received_loan</th>\n",
              "      <th>rejected_loan</th>\n",
              "      <th>zodiac_sign</th>\n",
              "      <th>left_for_two_month_plus</th>\n",
              "      <th>left_for_one_month</th>\n",
              "      <th>reward_rate</th>\n",
              "      <th>is_referred</th>\n",
              "    </tr>\n",
              "  </thead>\n",
              "  <tbody>\n",
              "    <tr>\n",
              "      <th>0</th>\n",
              "      <td>55409</td>\n",
              "      <td>0</td>\n",
              "      <td>37.0</td>\n",
              "      <td>na</td>\n",
              "      <td>0</td>\n",
              "      <td>0</td>\n",
              "      <td>0</td>\n",
              "      <td>0</td>\n",
              "      <td>0</td>\n",
              "      <td>0</td>\n",
              "      <td>0</td>\n",
              "      <td>0</td>\n",
              "      <td>0</td>\n",
              "      <td>1</td>\n",
              "      <td>1</td>\n",
              "      <td>1</td>\n",
              "      <td>0</td>\n",
              "      <td>0</td>\n",
              "      <td>Bi-Weekly</td>\n",
              "      <td>0</td>\n",
              "      <td>0</td>\n",
              "      <td>0</td>\n",
              "      <td>0</td>\n",
              "      <td>Leo</td>\n",
              "      <td>1</td>\n",
              "      <td>0</td>\n",
              "      <td>0.00</td>\n",
              "      <td>0</td>\n",
              "    </tr>\n",
              "    <tr>\n",
              "      <th>1</th>\n",
              "      <td>23547</td>\n",
              "      <td>0</td>\n",
              "      <td>28.0</td>\n",
              "      <td>R</td>\n",
              "      <td>0</td>\n",
              "      <td>0</td>\n",
              "      <td>1</td>\n",
              "      <td>0</td>\n",
              "      <td>0</td>\n",
              "      <td>96</td>\n",
              "      <td>0</td>\n",
              "      <td>0</td>\n",
              "      <td>5</td>\n",
              "      <td>1</td>\n",
              "      <td>1</td>\n",
              "      <td>1</td>\n",
              "      <td>0</td>\n",
              "      <td>0</td>\n",
              "      <td>Weekly</td>\n",
              "      <td>0</td>\n",
              "      <td>0</td>\n",
              "      <td>0</td>\n",
              "      <td>0</td>\n",
              "      <td>Leo</td>\n",
              "      <td>0</td>\n",
              "      <td>0</td>\n",
              "      <td>1.47</td>\n",
              "      <td>1</td>\n",
              "    </tr>\n",
              "    <tr>\n",
              "      <th>2</th>\n",
              "      <td>58313</td>\n",
              "      <td>0</td>\n",
              "      <td>35.0</td>\n",
              "      <td>R</td>\n",
              "      <td>47</td>\n",
              "      <td>2</td>\n",
              "      <td>86</td>\n",
              "      <td>47</td>\n",
              "      <td>0</td>\n",
              "      <td>285</td>\n",
              "      <td>0</td>\n",
              "      <td>0</td>\n",
              "      <td>9</td>\n",
              "      <td>1</td>\n",
              "      <td>0</td>\n",
              "      <td>0</td>\n",
              "      <td>1</td>\n",
              "      <td>2</td>\n",
              "      <td>Semi-Monthly</td>\n",
              "      <td>0</td>\n",
              "      <td>0</td>\n",
              "      <td>0</td>\n",
              "      <td>0</td>\n",
              "      <td>Capricorn</td>\n",
              "      <td>1</td>\n",
              "      <td>0</td>\n",
              "      <td>2.17</td>\n",
              "      <td>0</td>\n",
              "    </tr>\n",
              "    <tr>\n",
              "      <th>3</th>\n",
              "      <td>8095</td>\n",
              "      <td>0</td>\n",
              "      <td>26.0</td>\n",
              "      <td>R</td>\n",
              "      <td>26</td>\n",
              "      <td>3</td>\n",
              "      <td>38</td>\n",
              "      <td>25</td>\n",
              "      <td>0</td>\n",
              "      <td>74</td>\n",
              "      <td>0</td>\n",
              "      <td>0</td>\n",
              "      <td>26</td>\n",
              "      <td>1</td>\n",
              "      <td>0</td>\n",
              "      <td>0</td>\n",
              "      <td>1</td>\n",
              "      <td>0</td>\n",
              "      <td>Bi-Weekly</td>\n",
              "      <td>0</td>\n",
              "      <td>0</td>\n",
              "      <td>0</td>\n",
              "      <td>0</td>\n",
              "      <td>Capricorn</td>\n",
              "      <td>0</td>\n",
              "      <td>0</td>\n",
              "      <td>1.10</td>\n",
              "      <td>1</td>\n",
              "    </tr>\n",
              "    <tr>\n",
              "      <th>4</th>\n",
              "      <td>61353</td>\n",
              "      <td>1</td>\n",
              "      <td>27.0</td>\n",
              "      <td>na</td>\n",
              "      <td>0</td>\n",
              "      <td>0</td>\n",
              "      <td>2</td>\n",
              "      <td>0</td>\n",
              "      <td>0</td>\n",
              "      <td>0</td>\n",
              "      <td>0</td>\n",
              "      <td>0</td>\n",
              "      <td>0</td>\n",
              "      <td>1</td>\n",
              "      <td>1</td>\n",
              "      <td>0</td>\n",
              "      <td>1</td>\n",
              "      <td>0</td>\n",
              "      <td>Bi-Weekly</td>\n",
              "      <td>0</td>\n",
              "      <td>0</td>\n",
              "      <td>0</td>\n",
              "      <td>0</td>\n",
              "      <td>Aries</td>\n",
              "      <td>1</td>\n",
              "      <td>0</td>\n",
              "      <td>0.03</td>\n",
              "      <td>0</td>\n",
              "    </tr>\n",
              "  </tbody>\n",
              "</table>\n",
              "</div>"
            ],
            "text/plain": [
              "    user  churn   age  ... left_for_one_month  reward_rate  is_referred\n",
              "0  55409      0  37.0  ...                  0         0.00            0\n",
              "1  23547      0  28.0  ...                  0         1.47            1\n",
              "2  58313      0  35.0  ...                  0         2.17            0\n",
              "3   8095      0  26.0  ...                  0         1.10            1\n",
              "4  61353      1  27.0  ...                  0         0.03            0\n",
              "\n",
              "[5 rows x 28 columns]"
            ]
          },
          "metadata": {
            "tags": []
          },
          "execution_count": 41
        }
      ]
    },
    {
      "cell_type": "code",
      "metadata": {
        "id": "fhK1Bot8r22p",
        "colab_type": "code",
        "colab": {}
      },
      "source": [
        "user_identifier= dataset['user']"
      ],
      "execution_count": 42,
      "outputs": []
    },
    {
      "cell_type": "code",
      "metadata": {
        "id": "cm14V4qbr-Uj",
        "colab_type": "code",
        "colab": {}
      },
      "source": [
        "dataset= dataset.drop(columns= 'user')"
      ],
      "execution_count": 43,
      "outputs": []
    },
    {
      "cell_type": "code",
      "metadata": {
        "id": "r68Is0XcsBPp",
        "colab_type": "code",
        "colab": {
          "base_uri": "https://localhost:8080/",
          "height": 90
        },
        "outputId": "1cac62b5-c7fc-4aa8-e269-634eadbee2d3"
      },
      "source": [
        "dataset.housing.value_counts()"
      ],
      "execution_count": 44,
      "outputs": [
        {
          "output_type": "execute_result",
          "data": {
            "text/plain": [
              "na    13856\n",
              "R     10969\n",
              "O      2171\n",
              "Name: housing, dtype: int64"
            ]
          },
          "metadata": {
            "tags": []
          },
          "execution_count": 44
        }
      ]
    },
    {
      "cell_type": "code",
      "metadata": {
        "id": "q3XNttx3sIdz",
        "colab_type": "code",
        "colab": {}
      },
      "source": [
        "dataset= pd.get_dummies(dataset)"
      ],
      "execution_count": 45,
      "outputs": []
    },
    {
      "cell_type": "code",
      "metadata": {
        "id": "84Tgbcn5sQHJ",
        "colab_type": "code",
        "colab": {
          "base_uri": "https://localhost:8080/",
          "height": 271
        },
        "outputId": "450f6f21-f7e0-4257-a95f-47955d5aa59c"
      },
      "source": [
        "dataset.columns"
      ],
      "execution_count": 47,
      "outputs": [
        {
          "output_type": "execute_result",
          "data": {
            "text/plain": [
              "Index(['churn', 'age', 'deposits', 'withdrawal', 'purchases_partners',\n",
              "       'purchases', 'cc_taken', 'cc_recommended', 'cc_disliked', 'cc_liked',\n",
              "       'cc_application_begin', 'app_downloaded', 'web_user', 'ios_user',\n",
              "       'android_user', 'registered_phones', 'waiting_4_loan', 'cancelled_loan',\n",
              "       'received_loan', 'rejected_loan', 'left_for_two_month_plus',\n",
              "       'left_for_one_month', 'reward_rate', 'is_referred', 'housing_O',\n",
              "       'housing_R', 'housing_na', 'payment_type_Bi-Weekly',\n",
              "       'payment_type_Monthly', 'payment_type_Semi-Monthly',\n",
              "       'payment_type_Weekly', 'payment_type_na', 'zodiac_sign_Aquarius',\n",
              "       'zodiac_sign_Aries', 'zodiac_sign_Cancer', 'zodiac_sign_Capricorn',\n",
              "       'zodiac_sign_Gemini', 'zodiac_sign_Leo', 'zodiac_sign_Libra',\n",
              "       'zodiac_sign_Pisces', 'zodiac_sign_Sagittarius', 'zodiac_sign_Scorpio',\n",
              "       'zodiac_sign_Taurus', 'zodiac_sign_Virgo', 'zodiac_sign_na'],\n",
              "      dtype='object')"
            ]
          },
          "metadata": {
            "tags": []
          },
          "execution_count": 47
        }
      ]
    },
    {
      "cell_type": "code",
      "metadata": {
        "id": "LY-UtzTKsSQa",
        "colab_type": "code",
        "colab": {}
      },
      "source": [
        "dataset= dataset.drop(columns= ['housing_na', 'payment_type_na', 'zodiac_sign_na'])"
      ],
      "execution_count": 48,
      "outputs": []
    },
    {
      "cell_type": "code",
      "metadata": {
        "id": "FXwEjGnJtKCB",
        "colab_type": "code",
        "colab": {}
      },
      "source": [
        "from sklearn.model_selection import train_test_split\n",
        "X_train, X_test, y_train, y_test= train_test_split(dataset.drop(columns= 'churn'), dataset['churn'], test_size= 0.2, random_state= 0)"
      ],
      "execution_count": 77,
      "outputs": []
    },
    {
      "cell_type": "code",
      "metadata": {
        "id": "WN94DyX50FVS",
        "colab_type": "code",
        "colab": {
          "base_uri": "https://localhost:8080/",
          "height": 35
        },
        "outputId": "9a44c31f-674e-44c8-aa05-b456b823fbf8"
      },
      "source": [
        "X_train.shape"
      ],
      "execution_count": 78,
      "outputs": [
        {
          "output_type": "execute_result",
          "data": {
            "text/plain": [
              "(21596, 41)"
            ]
          },
          "metadata": {
            "tags": []
          },
          "execution_count": 78
        }
      ]
    },
    {
      "cell_type": "code",
      "metadata": {
        "id": "9V-W5TtKuTTR",
        "colab_type": "code",
        "colab": {
          "base_uri": "https://localhost:8080/",
          "height": 72
        },
        "outputId": "60cce1ff-6734-418e-cae7-4d2246df863d"
      },
      "source": [
        "y_train.value_counts()"
      ],
      "execution_count": 79,
      "outputs": [
        {
          "output_type": "execute_result",
          "data": {
            "text/plain": [
              "0    12656\n",
              "1     8940\n",
              "Name: churn, dtype: int64"
            ]
          },
          "metadata": {
            "tags": []
          },
          "execution_count": 79
        }
      ]
    },
    {
      "cell_type": "code",
      "metadata": {
        "id": "n0I4gLd5xBdA",
        "colab_type": "code",
        "colab": {}
      },
      "source": [
        "#Balancing the dataset\n",
        "pos_index= y_train[y_train.values==1].index\n",
        "neg_index= y_train[y_train.values==0].index"
      ],
      "execution_count": 80,
      "outputs": []
    },
    {
      "cell_type": "code",
      "metadata": {
        "id": "9FB_ZMC4x0fL",
        "colab_type": "code",
        "colab": {}
      },
      "source": [
        "if(len(pos_index)> len(neg_index)):\n",
        "  higher= pos_index\n",
        "  lower= neg_index\n",
        "else:\n",
        "  lower= pos_index\n",
        "  higher= neg_index"
      ],
      "execution_count": 81,
      "outputs": []
    },
    {
      "cell_type": "code",
      "metadata": {
        "id": "VSEKl871x0ip",
        "colab_type": "code",
        "colab": {
          "base_uri": "https://localhost:8080/",
          "height": 35
        },
        "outputId": "2cce174e-19a7-40d6-8b99-fb90cd0f548b"
      },
      "source": [
        "import random\n",
        "random.seed(0)\n",
        "higher= np.random.choice(higher, size= len(lower))\n",
        "lower= np.asarray(lower)\n",
        "new_index= np.concatenate((lower, higher))\n",
        "new_index"
      ],
      "execution_count": 82,
      "outputs": [
        {
          "output_type": "execute_result",
          "data": {
            "text/plain": [
              "array([11697, 19770,  8356, ..., 19346, 24355, 23183])"
            ]
          },
          "metadata": {
            "tags": []
          },
          "execution_count": 82
        }
      ]
    },
    {
      "cell_type": "code",
      "metadata": {
        "id": "rL5KjwpHx0cs",
        "colab_type": "code",
        "colab": {}
      },
      "source": [
        "X_train= X_train.loc[new_index,]\n",
        "y_train= y_train.loc[new_index]"
      ],
      "execution_count": 83,
      "outputs": []
    },
    {
      "cell_type": "code",
      "metadata": {
        "id": "Wi1eobGj0Vv4",
        "colab_type": "code",
        "colab": {
          "base_uri": "https://localhost:8080/",
          "height": 35
        },
        "outputId": "17d7da52-78c4-47a8-bac6-d03601d92638"
      },
      "source": [
        "print(X_train.shape, y_train.shape)"
      ],
      "execution_count": 84,
      "outputs": [
        {
          "output_type": "stream",
          "text": [
            "(17880, 41) (17880,)\n"
          ],
          "name": "stdout"
        }
      ]
    },
    {
      "cell_type": "code",
      "metadata": {
        "id": "FfBRdLA807LR",
        "colab_type": "code",
        "colab": {
          "base_uri": "https://localhost:8080/",
          "height": 243
        },
        "outputId": "5978a306-9042-4010-9b93-887c98cf8281"
      },
      "source": [
        "X_train.head()"
      ],
      "execution_count": 85,
      "outputs": [
        {
          "output_type": "execute_result",
          "data": {
            "text/html": [
              "<div>\n",
              "<style scoped>\n",
              "    .dataframe tbody tr th:only-of-type {\n",
              "        vertical-align: middle;\n",
              "    }\n",
              "\n",
              "    .dataframe tbody tr th {\n",
              "        vertical-align: top;\n",
              "    }\n",
              "\n",
              "    .dataframe thead th {\n",
              "        text-align: right;\n",
              "    }\n",
              "</style>\n",
              "<table border=\"1\" class=\"dataframe\">\n",
              "  <thead>\n",
              "    <tr style=\"text-align: right;\">\n",
              "      <th></th>\n",
              "      <th>age</th>\n",
              "      <th>deposits</th>\n",
              "      <th>withdrawal</th>\n",
              "      <th>purchases_partners</th>\n",
              "      <th>purchases</th>\n",
              "      <th>cc_taken</th>\n",
              "      <th>cc_recommended</th>\n",
              "      <th>cc_disliked</th>\n",
              "      <th>cc_liked</th>\n",
              "      <th>cc_application_begin</th>\n",
              "      <th>app_downloaded</th>\n",
              "      <th>web_user</th>\n",
              "      <th>ios_user</th>\n",
              "      <th>android_user</th>\n",
              "      <th>registered_phones</th>\n",
              "      <th>waiting_4_loan</th>\n",
              "      <th>cancelled_loan</th>\n",
              "      <th>received_loan</th>\n",
              "      <th>rejected_loan</th>\n",
              "      <th>left_for_two_month_plus</th>\n",
              "      <th>left_for_one_month</th>\n",
              "      <th>reward_rate</th>\n",
              "      <th>is_referred</th>\n",
              "      <th>housing_O</th>\n",
              "      <th>housing_R</th>\n",
              "      <th>payment_type_Bi-Weekly</th>\n",
              "      <th>payment_type_Monthly</th>\n",
              "      <th>payment_type_Semi-Monthly</th>\n",
              "      <th>payment_type_Weekly</th>\n",
              "      <th>zodiac_sign_Aquarius</th>\n",
              "      <th>zodiac_sign_Aries</th>\n",
              "      <th>zodiac_sign_Cancer</th>\n",
              "      <th>zodiac_sign_Capricorn</th>\n",
              "      <th>zodiac_sign_Gemini</th>\n",
              "      <th>zodiac_sign_Leo</th>\n",
              "      <th>zodiac_sign_Libra</th>\n",
              "      <th>zodiac_sign_Pisces</th>\n",
              "      <th>zodiac_sign_Sagittarius</th>\n",
              "      <th>zodiac_sign_Scorpio</th>\n",
              "      <th>zodiac_sign_Taurus</th>\n",
              "      <th>zodiac_sign_Virgo</th>\n",
              "    </tr>\n",
              "  </thead>\n",
              "  <tbody>\n",
              "    <tr>\n",
              "      <th>11697</th>\n",
              "      <td>26.0</td>\n",
              "      <td>0</td>\n",
              "      <td>0</td>\n",
              "      <td>2</td>\n",
              "      <td>0</td>\n",
              "      <td>0</td>\n",
              "      <td>10</td>\n",
              "      <td>0</td>\n",
              "      <td>0</td>\n",
              "      <td>1</td>\n",
              "      <td>1</td>\n",
              "      <td>0</td>\n",
              "      <td>0</td>\n",
              "      <td>1</td>\n",
              "      <td>0</td>\n",
              "      <td>0</td>\n",
              "      <td>0</td>\n",
              "      <td>0</td>\n",
              "      <td>0</td>\n",
              "      <td>0</td>\n",
              "      <td>0</td>\n",
              "      <td>0.50</td>\n",
              "      <td>0</td>\n",
              "      <td>0</td>\n",
              "      <td>1</td>\n",
              "      <td>0</td>\n",
              "      <td>0</td>\n",
              "      <td>0</td>\n",
              "      <td>1</td>\n",
              "      <td>1</td>\n",
              "      <td>0</td>\n",
              "      <td>0</td>\n",
              "      <td>0</td>\n",
              "      <td>0</td>\n",
              "      <td>0</td>\n",
              "      <td>0</td>\n",
              "      <td>0</td>\n",
              "      <td>0</td>\n",
              "      <td>0</td>\n",
              "      <td>0</td>\n",
              "      <td>0</td>\n",
              "    </tr>\n",
              "    <tr>\n",
              "      <th>19770</th>\n",
              "      <td>28.0</td>\n",
              "      <td>0</td>\n",
              "      <td>0</td>\n",
              "      <td>0</td>\n",
              "      <td>0</td>\n",
              "      <td>0</td>\n",
              "      <td>118</td>\n",
              "      <td>1</td>\n",
              "      <td>0</td>\n",
              "      <td>1</td>\n",
              "      <td>1</td>\n",
              "      <td>1</td>\n",
              "      <td>0</td>\n",
              "      <td>1</td>\n",
              "      <td>0</td>\n",
              "      <td>0</td>\n",
              "      <td>0</td>\n",
              "      <td>0</td>\n",
              "      <td>0</td>\n",
              "      <td>0</td>\n",
              "      <td>0</td>\n",
              "      <td>1.60</td>\n",
              "      <td>0</td>\n",
              "      <td>0</td>\n",
              "      <td>0</td>\n",
              "      <td>1</td>\n",
              "      <td>0</td>\n",
              "      <td>0</td>\n",
              "      <td>0</td>\n",
              "      <td>0</td>\n",
              "      <td>0</td>\n",
              "      <td>0</td>\n",
              "      <td>0</td>\n",
              "      <td>0</td>\n",
              "      <td>0</td>\n",
              "      <td>1</td>\n",
              "      <td>0</td>\n",
              "      <td>0</td>\n",
              "      <td>0</td>\n",
              "      <td>0</td>\n",
              "      <td>0</td>\n",
              "    </tr>\n",
              "    <tr>\n",
              "      <th>8356</th>\n",
              "      <td>35.0</td>\n",
              "      <td>0</td>\n",
              "      <td>0</td>\n",
              "      <td>0</td>\n",
              "      <td>0</td>\n",
              "      <td>0</td>\n",
              "      <td>266</td>\n",
              "      <td>0</td>\n",
              "      <td>0</td>\n",
              "      <td>5</td>\n",
              "      <td>1</td>\n",
              "      <td>1</td>\n",
              "      <td>0</td>\n",
              "      <td>1</td>\n",
              "      <td>0</td>\n",
              "      <td>0</td>\n",
              "      <td>0</td>\n",
              "      <td>0</td>\n",
              "      <td>0</td>\n",
              "      <td>0</td>\n",
              "      <td>0</td>\n",
              "      <td>1.93</td>\n",
              "      <td>0</td>\n",
              "      <td>0</td>\n",
              "      <td>0</td>\n",
              "      <td>0</td>\n",
              "      <td>0</td>\n",
              "      <td>0</td>\n",
              "      <td>0</td>\n",
              "      <td>0</td>\n",
              "      <td>0</td>\n",
              "      <td>0</td>\n",
              "      <td>0</td>\n",
              "      <td>0</td>\n",
              "      <td>0</td>\n",
              "      <td>0</td>\n",
              "      <td>0</td>\n",
              "      <td>0</td>\n",
              "      <td>0</td>\n",
              "      <td>0</td>\n",
              "      <td>1</td>\n",
              "    </tr>\n",
              "    <tr>\n",
              "      <th>17887</th>\n",
              "      <td>38.0</td>\n",
              "      <td>0</td>\n",
              "      <td>0</td>\n",
              "      <td>28</td>\n",
              "      <td>0</td>\n",
              "      <td>0</td>\n",
              "      <td>74</td>\n",
              "      <td>0</td>\n",
              "      <td>0</td>\n",
              "      <td>8</td>\n",
              "      <td>1</td>\n",
              "      <td>1</td>\n",
              "      <td>1</td>\n",
              "      <td>0</td>\n",
              "      <td>0</td>\n",
              "      <td>0</td>\n",
              "      <td>0</td>\n",
              "      <td>0</td>\n",
              "      <td>0</td>\n",
              "      <td>0</td>\n",
              "      <td>0</td>\n",
              "      <td>0.40</td>\n",
              "      <td>1</td>\n",
              "      <td>0</td>\n",
              "      <td>1</td>\n",
              "      <td>0</td>\n",
              "      <td>0</td>\n",
              "      <td>0</td>\n",
              "      <td>1</td>\n",
              "      <td>0</td>\n",
              "      <td>0</td>\n",
              "      <td>0</td>\n",
              "      <td>0</td>\n",
              "      <td>0</td>\n",
              "      <td>0</td>\n",
              "      <td>0</td>\n",
              "      <td>0</td>\n",
              "      <td>0</td>\n",
              "      <td>0</td>\n",
              "      <td>1</td>\n",
              "      <td>0</td>\n",
              "    </tr>\n",
              "    <tr>\n",
              "      <th>25153</th>\n",
              "      <td>24.0</td>\n",
              "      <td>1</td>\n",
              "      <td>0</td>\n",
              "      <td>22</td>\n",
              "      <td>1</td>\n",
              "      <td>0</td>\n",
              "      <td>39</td>\n",
              "      <td>0</td>\n",
              "      <td>0</td>\n",
              "      <td>5</td>\n",
              "      <td>1</td>\n",
              "      <td>0</td>\n",
              "      <td>1</td>\n",
              "      <td>0</td>\n",
              "      <td>0</td>\n",
              "      <td>0</td>\n",
              "      <td>0</td>\n",
              "      <td>0</td>\n",
              "      <td>0</td>\n",
              "      <td>0</td>\n",
              "      <td>0</td>\n",
              "      <td>0.47</td>\n",
              "      <td>1</td>\n",
              "      <td>0</td>\n",
              "      <td>1</td>\n",
              "      <td>0</td>\n",
              "      <td>0</td>\n",
              "      <td>0</td>\n",
              "      <td>1</td>\n",
              "      <td>0</td>\n",
              "      <td>0</td>\n",
              "      <td>0</td>\n",
              "      <td>0</td>\n",
              "      <td>0</td>\n",
              "      <td>0</td>\n",
              "      <td>0</td>\n",
              "      <td>1</td>\n",
              "      <td>0</td>\n",
              "      <td>0</td>\n",
              "      <td>0</td>\n",
              "      <td>0</td>\n",
              "    </tr>\n",
              "  </tbody>\n",
              "</table>\n",
              "</div>"
            ],
            "text/plain": [
              "        age  deposits  ...  zodiac_sign_Taurus  zodiac_sign_Virgo\n",
              "11697  26.0         0  ...                   0                  0\n",
              "19770  28.0         0  ...                   0                  0\n",
              "8356   35.0         0  ...                   0                  1\n",
              "17887  38.0         0  ...                   1                  0\n",
              "25153  24.0         1  ...                   0                  0\n",
              "\n",
              "[5 rows x 41 columns]"
            ]
          },
          "metadata": {
            "tags": []
          },
          "execution_count": 85
        }
      ]
    },
    {
      "cell_type": "code",
      "metadata": {
        "id": "wmfiFBSstvAq",
        "colab_type": "code",
        "colab": {}
      },
      "source": [
        "#Feature Scaling\n",
        "from sklearn.preprocessing import StandardScaler\n",
        "sc= StandardScaler()\n",
        "X_train2= pd.DataFrame(sc.fit_transform(X_train))\n",
        "X_test2= pd.DataFrame(sc.transform(X_test))\n",
        "\n",
        "X_train2.columns= X_train.columns.values\n",
        "X_test2.columns= X_test.columns.values\n",
        "X_train2.index= X_train.index.values\n",
        "X_test2.index= X_test.index.values"
      ],
      "execution_count": 88,
      "outputs": []
    },
    {
      "cell_type": "code",
      "metadata": {
        "id": "p8uVHZTz1kBR",
        "colab_type": "code",
        "colab": {
          "base_uri": "https://localhost:8080/",
          "height": 243
        },
        "outputId": "7dd338bb-b7d7-4825-9867-6eef7081066c"
      },
      "source": [
        "X_train2.head()"
      ],
      "execution_count": 90,
      "outputs": [
        {
          "output_type": "execute_result",
          "data": {
            "text/html": [
              "<div>\n",
              "<style scoped>\n",
              "    .dataframe tbody tr th:only-of-type {\n",
              "        vertical-align: middle;\n",
              "    }\n",
              "\n",
              "    .dataframe tbody tr th {\n",
              "        vertical-align: top;\n",
              "    }\n",
              "\n",
              "    .dataframe thead th {\n",
              "        text-align: right;\n",
              "    }\n",
              "</style>\n",
              "<table border=\"1\" class=\"dataframe\">\n",
              "  <thead>\n",
              "    <tr style=\"text-align: right;\">\n",
              "      <th></th>\n",
              "      <th>age</th>\n",
              "      <th>deposits</th>\n",
              "      <th>withdrawal</th>\n",
              "      <th>purchases_partners</th>\n",
              "      <th>purchases</th>\n",
              "      <th>cc_taken</th>\n",
              "      <th>cc_recommended</th>\n",
              "      <th>cc_disliked</th>\n",
              "      <th>cc_liked</th>\n",
              "      <th>cc_application_begin</th>\n",
              "      <th>app_downloaded</th>\n",
              "      <th>web_user</th>\n",
              "      <th>ios_user</th>\n",
              "      <th>android_user</th>\n",
              "      <th>registered_phones</th>\n",
              "      <th>waiting_4_loan</th>\n",
              "      <th>cancelled_loan</th>\n",
              "      <th>received_loan</th>\n",
              "      <th>rejected_loan</th>\n",
              "      <th>left_for_two_month_plus</th>\n",
              "      <th>left_for_one_month</th>\n",
              "      <th>reward_rate</th>\n",
              "      <th>is_referred</th>\n",
              "      <th>housing_O</th>\n",
              "      <th>housing_R</th>\n",
              "      <th>payment_type_Bi-Weekly</th>\n",
              "      <th>payment_type_Monthly</th>\n",
              "      <th>payment_type_Semi-Monthly</th>\n",
              "      <th>payment_type_Weekly</th>\n",
              "      <th>zodiac_sign_Aquarius</th>\n",
              "      <th>zodiac_sign_Aries</th>\n",
              "      <th>zodiac_sign_Cancer</th>\n",
              "      <th>zodiac_sign_Capricorn</th>\n",
              "      <th>zodiac_sign_Gemini</th>\n",
              "      <th>zodiac_sign_Leo</th>\n",
              "      <th>zodiac_sign_Libra</th>\n",
              "      <th>zodiac_sign_Pisces</th>\n",
              "      <th>zodiac_sign_Sagittarius</th>\n",
              "      <th>zodiac_sign_Scorpio</th>\n",
              "      <th>zodiac_sign_Taurus</th>\n",
              "      <th>zodiac_sign_Virgo</th>\n",
              "    </tr>\n",
              "  </thead>\n",
              "  <tbody>\n",
              "    <tr>\n",
              "      <th>11697</th>\n",
              "      <td>-0.620134</td>\n",
              "      <td>-0.360996</td>\n",
              "      <td>-0.275059</td>\n",
              "      <td>-0.598619</td>\n",
              "      <td>-0.360675</td>\n",
              "      <td>-0.168281</td>\n",
              "      <td>-0.910111</td>\n",
              "      <td>-0.057109</td>\n",
              "      <td>-0.071248</td>\n",
              "      <td>-0.569234</td>\n",
              "      <td>0.230225</td>\n",
              "      <td>-1.245102</td>\n",
              "      <td>-0.809001</td>\n",
              "      <td>0.845543</td>\n",
              "      <td>-0.463456</td>\n",
              "      <td>-0.038889</td>\n",
              "      <td>-0.138809</td>\n",
              "      <td>-0.139852</td>\n",
              "      <td>-0.073856</td>\n",
              "      <td>-0.453771</td>\n",
              "      <td>-0.140267</td>\n",
              "      <td>-0.517118</td>\n",
              "      <td>-0.671875</td>\n",
              "      <td>-0.288518</td>\n",
              "      <td>1.215236</td>\n",
              "      <td>-0.935519</td>\n",
              "      <td>-0.336535</td>\n",
              "      <td>-0.313389</td>\n",
              "      <td>2.007370</td>\n",
              "      <td>3.518982</td>\n",
              "      <td>-0.286237</td>\n",
              "      <td>-0.31134</td>\n",
              "      <td>-0.158467</td>\n",
              "      <td>-0.296517</td>\n",
              "      <td>-0.315965</td>\n",
              "      <td>-0.289994</td>\n",
              "      <td>-0.29022</td>\n",
              "      <td>-0.286808</td>\n",
              "      <td>-0.289653</td>\n",
              "      <td>-0.297631</td>\n",
              "      <td>-0.321184</td>\n",
              "    </tr>\n",
              "    <tr>\n",
              "      <th>19770</th>\n",
              "      <td>-0.420453</td>\n",
              "      <td>-0.360996</td>\n",
              "      <td>-0.275059</td>\n",
              "      <td>-0.648574</td>\n",
              "      <td>-0.360675</td>\n",
              "      <td>-0.168281</td>\n",
              "      <td>0.323150</td>\n",
              "      <td>1.002130</td>\n",
              "      <td>-0.071248</td>\n",
              "      <td>-0.569234</td>\n",
              "      <td>0.230225</td>\n",
              "      <td>0.803147</td>\n",
              "      <td>-0.809001</td>\n",
              "      <td>0.845543</td>\n",
              "      <td>-0.463456</td>\n",
              "      <td>-0.038889</td>\n",
              "      <td>-0.138809</td>\n",
              "      <td>-0.139852</td>\n",
              "      <td>-0.073856</td>\n",
              "      <td>-0.453771</td>\n",
              "      <td>-0.140267</td>\n",
              "      <td>0.947686</td>\n",
              "      <td>-0.671875</td>\n",
              "      <td>-0.288518</td>\n",
              "      <td>-0.822886</td>\n",
              "      <td>1.068925</td>\n",
              "      <td>-0.336535</td>\n",
              "      <td>-0.313389</td>\n",
              "      <td>-0.498164</td>\n",
              "      <td>-0.284173</td>\n",
              "      <td>-0.286237</td>\n",
              "      <td>-0.31134</td>\n",
              "      <td>-0.158467</td>\n",
              "      <td>-0.296517</td>\n",
              "      <td>-0.315965</td>\n",
              "      <td>3.448352</td>\n",
              "      <td>-0.29022</td>\n",
              "      <td>-0.286808</td>\n",
              "      <td>-0.289653</td>\n",
              "      <td>-0.297631</td>\n",
              "      <td>-0.321184</td>\n",
              "    </tr>\n",
              "    <tr>\n",
              "      <th>8356</th>\n",
              "      <td>0.278431</td>\n",
              "      <td>-0.360996</td>\n",
              "      <td>-0.275059</td>\n",
              "      <td>-0.648574</td>\n",
              "      <td>-0.360675</td>\n",
              "      <td>-0.168281</td>\n",
              "      <td>2.013173</td>\n",
              "      <td>-0.057109</td>\n",
              "      <td>-0.071248</td>\n",
              "      <td>-0.245525</td>\n",
              "      <td>0.230225</td>\n",
              "      <td>0.803147</td>\n",
              "      <td>-0.809001</td>\n",
              "      <td>0.845543</td>\n",
              "      <td>-0.463456</td>\n",
              "      <td>-0.038889</td>\n",
              "      <td>-0.138809</td>\n",
              "      <td>-0.139852</td>\n",
              "      <td>-0.073856</td>\n",
              "      <td>-0.453771</td>\n",
              "      <td>-0.140267</td>\n",
              "      <td>1.387127</td>\n",
              "      <td>-0.671875</td>\n",
              "      <td>-0.288518</td>\n",
              "      <td>-0.822886</td>\n",
              "      <td>-0.935519</td>\n",
              "      <td>-0.336535</td>\n",
              "      <td>-0.313389</td>\n",
              "      <td>-0.498164</td>\n",
              "      <td>-0.284173</td>\n",
              "      <td>-0.286237</td>\n",
              "      <td>-0.31134</td>\n",
              "      <td>-0.158467</td>\n",
              "      <td>-0.296517</td>\n",
              "      <td>-0.315965</td>\n",
              "      <td>-0.289994</td>\n",
              "      <td>-0.29022</td>\n",
              "      <td>-0.286808</td>\n",
              "      <td>-0.289653</td>\n",
              "      <td>-0.297631</td>\n",
              "      <td>3.113484</td>\n",
              "    </tr>\n",
              "    <tr>\n",
              "      <th>17887</th>\n",
              "      <td>0.577953</td>\n",
              "      <td>-0.360996</td>\n",
              "      <td>-0.275059</td>\n",
              "      <td>0.050791</td>\n",
              "      <td>-0.360675</td>\n",
              "      <td>-0.168281</td>\n",
              "      <td>-0.179290</td>\n",
              "      <td>-0.057109</td>\n",
              "      <td>-0.071248</td>\n",
              "      <td>-0.002743</td>\n",
              "      <td>0.230225</td>\n",
              "      <td>0.803147</td>\n",
              "      <td>1.236092</td>\n",
              "      <td>-1.182672</td>\n",
              "      <td>-0.463456</td>\n",
              "      <td>-0.038889</td>\n",
              "      <td>-0.138809</td>\n",
              "      <td>-0.139852</td>\n",
              "      <td>-0.073856</td>\n",
              "      <td>-0.453771</td>\n",
              "      <td>-0.140267</td>\n",
              "      <td>-0.650282</td>\n",
              "      <td>1.488371</td>\n",
              "      <td>-0.288518</td>\n",
              "      <td>1.215236</td>\n",
              "      <td>-0.935519</td>\n",
              "      <td>-0.336535</td>\n",
              "      <td>-0.313389</td>\n",
              "      <td>2.007370</td>\n",
              "      <td>-0.284173</td>\n",
              "      <td>-0.286237</td>\n",
              "      <td>-0.31134</td>\n",
              "      <td>-0.158467</td>\n",
              "      <td>-0.296517</td>\n",
              "      <td>-0.315965</td>\n",
              "      <td>-0.289994</td>\n",
              "      <td>-0.29022</td>\n",
              "      <td>-0.286808</td>\n",
              "      <td>-0.289653</td>\n",
              "      <td>3.359860</td>\n",
              "      <td>-0.321184</td>\n",
              "    </tr>\n",
              "    <tr>\n",
              "      <th>25153</th>\n",
              "      <td>-0.819815</td>\n",
              "      <td>-0.247505</td>\n",
              "      <td>-0.275059</td>\n",
              "      <td>-0.099073</td>\n",
              "      <td>-0.244847</td>\n",
              "      <td>-0.168281</td>\n",
              "      <td>-0.578957</td>\n",
              "      <td>-0.057109</td>\n",
              "      <td>-0.071248</td>\n",
              "      <td>-0.245525</td>\n",
              "      <td>0.230225</td>\n",
              "      <td>-1.245102</td>\n",
              "      <td>1.236092</td>\n",
              "      <td>-1.182672</td>\n",
              "      <td>-0.463456</td>\n",
              "      <td>-0.038889</td>\n",
              "      <td>-0.138809</td>\n",
              "      <td>-0.139852</td>\n",
              "      <td>-0.073856</td>\n",
              "      <td>-0.453771</td>\n",
              "      <td>-0.140267</td>\n",
              "      <td>-0.557067</td>\n",
              "      <td>1.488371</td>\n",
              "      <td>-0.288518</td>\n",
              "      <td>1.215236</td>\n",
              "      <td>-0.935519</td>\n",
              "      <td>-0.336535</td>\n",
              "      <td>-0.313389</td>\n",
              "      <td>2.007370</td>\n",
              "      <td>-0.284173</td>\n",
              "      <td>-0.286237</td>\n",
              "      <td>-0.31134</td>\n",
              "      <td>-0.158467</td>\n",
              "      <td>-0.296517</td>\n",
              "      <td>-0.315965</td>\n",
              "      <td>-0.289994</td>\n",
              "      <td>3.44566</td>\n",
              "      <td>-0.286808</td>\n",
              "      <td>-0.289653</td>\n",
              "      <td>-0.297631</td>\n",
              "      <td>-0.321184</td>\n",
              "    </tr>\n",
              "  </tbody>\n",
              "</table>\n",
              "</div>"
            ],
            "text/plain": [
              "            age  deposits  ...  zodiac_sign_Taurus  zodiac_sign_Virgo\n",
              "11697 -0.620134 -0.360996  ...           -0.297631          -0.321184\n",
              "19770 -0.420453 -0.360996  ...           -0.297631          -0.321184\n",
              "8356   0.278431 -0.360996  ...           -0.297631           3.113484\n",
              "17887  0.577953 -0.360996  ...            3.359860          -0.321184\n",
              "25153 -0.819815 -0.247505  ...           -0.297631          -0.321184\n",
              "\n",
              "[5 rows x 41 columns]"
            ]
          },
          "metadata": {
            "tags": []
          },
          "execution_count": 90
        }
      ]
    },
    {
      "cell_type": "code",
      "metadata": {
        "id": "XJjqXjME1smk",
        "colab_type": "code",
        "colab": {}
      },
      "source": [
        "X_train= X_train2\n",
        "X_test= X_test2"
      ],
      "execution_count": 91,
      "outputs": []
    },
    {
      "cell_type": "code",
      "metadata": {
        "id": "eswWLQMJ13Gu",
        "colab_type": "code",
        "colab": {}
      },
      "source": [
        "#Model Building\n",
        "from sklearn.linear_model import LogisticRegression\n",
        "classifier= LogisticRegression(random_state=0)"
      ],
      "execution_count": 93,
      "outputs": []
    },
    {
      "cell_type": "code",
      "metadata": {
        "id": "_NAtKrnz2Nnd",
        "colab_type": "code",
        "colab": {
          "base_uri": "https://localhost:8080/",
          "height": 108
        },
        "outputId": "e5d072fe-f248-436a-fc37-650fbdef17be"
      },
      "source": [
        "classifier.fit(X_train, y_train)"
      ],
      "execution_count": 94,
      "outputs": [
        {
          "output_type": "execute_result",
          "data": {
            "text/plain": [
              "LogisticRegression(C=1.0, class_weight=None, dual=False, fit_intercept=True,\n",
              "                   intercept_scaling=1, l1_ratio=None, max_iter=100,\n",
              "                   multi_class='auto', n_jobs=None, penalty='l2',\n",
              "                   random_state=0, solver='lbfgs', tol=0.0001, verbose=0,\n",
              "                   warm_start=False)"
            ]
          },
          "metadata": {
            "tags": []
          },
          "execution_count": 94
        }
      ]
    },
    {
      "cell_type": "code",
      "metadata": {
        "id": "chOLrAX52V-L",
        "colab_type": "code",
        "colab": {}
      },
      "source": [
        "y_pred= classifier.predict(X_test)"
      ],
      "execution_count": 95,
      "outputs": []
    },
    {
      "cell_type": "code",
      "metadata": {
        "id": "f-zLXf-x2akM",
        "colab_type": "code",
        "colab": {
          "base_uri": "https://localhost:8080/",
          "height": 35
        },
        "outputId": "410bdf1e-8683-44c2-c80a-c1a8373d9c53"
      },
      "source": [
        "from sklearn.metrics import accuracy_score, f1_score, precision_score, recall_score, confusion_matrix, classification_report\n",
        "cm= confusion_matrix(y_test, y_pred)\n",
        "accuracy_score(y_test, y_pred)"
      ],
      "execution_count": 102,
      "outputs": [
        {
          "output_type": "execute_result",
          "data": {
            "text/plain": [
              "0.6118518518518519"
            ]
          },
          "metadata": {
            "tags": []
          },
          "execution_count": 102
        }
      ]
    },
    {
      "cell_type": "code",
      "metadata": {
        "id": "YD12fWzM2vzl",
        "colab_type": "code",
        "colab": {
          "base_uri": "https://localhost:8080/",
          "height": 35
        },
        "outputId": "16d12ca3-85a7-41de-ffa0-1219b587fc32"
      },
      "source": [
        "precision_score(y_test, y_pred)"
      ],
      "execution_count": 99,
      "outputs": [
        {
          "output_type": "execute_result",
          "data": {
            "text/plain": [
              "0.5220870678617158"
            ]
          },
          "metadata": {
            "tags": []
          },
          "execution_count": 99
        }
      ]
    },
    {
      "cell_type": "code",
      "metadata": {
        "id": "6xPhrskp3A_I",
        "colab_type": "code",
        "colab": {
          "base_uri": "https://localhost:8080/",
          "height": 35
        },
        "outputId": "a86fe8a7-0d25-4296-f8cc-95808f1c6731"
      },
      "source": [
        "recall_score(y_test, y_pred)"
      ],
      "execution_count": 100,
      "outputs": [
        {
          "output_type": "execute_result",
          "data": {
            "text/plain": [
              "0.7300805729632945"
            ]
          },
          "metadata": {
            "tags": []
          },
          "execution_count": 100
        }
      ]
    },
    {
      "cell_type": "code",
      "metadata": {
        "id": "HJ_5G5533nFT",
        "colab_type": "code",
        "colab": {
          "base_uri": "https://localhost:8080/",
          "height": 35
        },
        "outputId": "e8900a08-48d8-46e7-b631-feeae6036c69"
      },
      "source": [
        "f1_score(y_test, y_pred)"
      ],
      "execution_count": 101,
      "outputs": [
        {
          "output_type": "execute_result",
          "data": {
            "text/plain": [
              "0.6088092571855169"
            ]
          },
          "metadata": {
            "tags": []
          },
          "execution_count": 101
        }
      ]
    },
    {
      "cell_type": "code",
      "metadata": {
        "id": "DObCVuB43sl0",
        "colab_type": "code",
        "colab": {
          "base_uri": "https://localhost:8080/",
          "height": 181
        },
        "outputId": "49a2f34b-d063-432b-8299-c50c7d096b37"
      },
      "source": [
        "print(classification_report(y_test, y_pred))"
      ],
      "execution_count": 104,
      "outputs": [
        {
          "output_type": "stream",
          "text": [
            "              precision    recall  f1-score   support\n",
            "\n",
            "           0       0.74      0.53      0.61      3166\n",
            "           1       0.52      0.73      0.61      2234\n",
            "\n",
            "    accuracy                           0.61      5400\n",
            "   macro avg       0.63      0.63      0.61      5400\n",
            "weighted avg       0.65      0.61      0.61      5400\n",
            "\n"
          ],
          "name": "stdout"
        }
      ]
    },
    {
      "cell_type": "code",
      "metadata": {
        "id": "gT3Ij2I04TkF",
        "colab_type": "code",
        "colab": {
          "base_uri": "https://localhost:8080/",
          "height": 283
        },
        "outputId": "1b964cb0-448c-4f0d-9a72-b0c6be98d922"
      },
      "source": [
        "sns.heatmap(cm, annot= True, fmt= 'g')"
      ],
      "execution_count": 106,
      "outputs": [
        {
          "output_type": "execute_result",
          "data": {
            "text/plain": [
              "<matplotlib.axes._subplots.AxesSubplot at 0x7f65d3a8a6a0>"
            ]
          },
          "metadata": {
            "tags": []
          },
          "execution_count": 106
        },
        {
          "output_type": "display_data",
          "data": {
            "image/png": "[encoded data removed]",
            "text/plain": [
              "<Figure size 432x288 with 2 Axes>"
            ]
          },
          "metadata": {
            "tags": [],
            "needs_background": "light"
          }
        }
      ]
    },
    {
      "cell_type": "code",
      "metadata": {
        "id": "39ee1Q854oZD",
        "colab_type": "code",
        "colab": {}
      },
      "source": [
        "#Applying K_fold cross-validation\n",
        "from sklearn.model_selection import cross_val_score\n",
        "accuracies = cross_val_score(classifier, X_train, y_train, cv= 10)"
      ],
      "execution_count": 110,
      "outputs": []
    },
    {
      "cell_type": "code",
      "metadata": {
        "id": "XG_ddH3R5Mn0",
        "colab_type": "code",
        "colab": {
          "base_uri": "https://localhost:8080/",
          "height": 53
        },
        "outputId": "9638780c-bda4-4b10-e30f-064c741553bc"
      },
      "source": [
        "accuracies"
      ],
      "execution_count": 111,
      "outputs": [
        {
          "output_type": "execute_result",
          "data": {
            "text/plain": [
              "array([0.6336689 , 0.63478747, 0.64765101, 0.63087248, 0.64597315,\n",
              "       0.6442953 , 0.65100671, 0.64541387, 0.64541387, 0.65380313])"
            ]
          },
          "metadata": {
            "tags": []
          },
          "execution_count": 111
        }
      ]
    },
    {
      "cell_type": "code",
      "metadata": {
        "id": "TObNs36Y5b2z",
        "colab_type": "code",
        "colab": {
          "base_uri": "https://localhost:8080/",
          "height": 35
        },
        "outputId": "498effec-9d2e-4ed2-d820-9e536e299253"
      },
      "source": [
        "print(accuracies.mean(), accuracies.std())"
      ],
      "execution_count": 112,
      "outputs": [
        {
          "output_type": "stream",
          "text": [
            "0.6432885906040269 0.0072482876238578915\n"
          ],
          "name": "stdout"
        }
      ]
    },
    {
      "cell_type": "code",
      "metadata": {
        "id": "AXW4k76q5ggH",
        "colab_type": "code",
        "colab": {
          "base_uri": "https://localhost:8080/",
          "height": 1000
        },
        "outputId": "a927e930-7410-4846-8447-31ac6f5e104b"
      },
      "source": [
        "#Feature Selection\n",
        "#Finding 20 best features for churn model\n",
        "pd.concat([pd.DataFrame(X_train.columns, columns= ['Features']), pd.DataFrame(np.transpose(classifier.coef_), columns= ['Coeff'])], axis= 1)"
      ],
      "execution_count": 124,
      "outputs": [
        {
          "output_type": "execute_result",
          "data": {
            "text/html": [
              "<div>\n",
              "<style scoped>\n",
              "    .dataframe tbody tr th:only-of-type {\n",
              "        vertical-align: middle;\n",
              "    }\n",
              "\n",
              "    .dataframe tbody tr th {\n",
              "        vertical-align: top;\n",
              "    }\n",
              "\n",
              "    .dataframe thead th {\n",
              "        text-align: right;\n",
              "    }\n",
              "</style>\n",
              "<table border=\"1\" class=\"dataframe\">\n",
              "  <thead>\n",
              "    <tr style=\"text-align: right;\">\n",
              "      <th></th>\n",
              "      <th>Features</th>\n",
              "      <th>Coeff</th>\n",
              "    </tr>\n",
              "  </thead>\n",
              "  <tbody>\n",
              "    <tr>\n",
              "      <th>0</th>\n",
              "      <td>age</td>\n",
              "      <td>-0.167014</td>\n",
              "    </tr>\n",
              "    <tr>\n",
              "      <th>1</th>\n",
              "      <td>deposits</td>\n",
              "      <td>0.159372</td>\n",
              "    </tr>\n",
              "    <tr>\n",
              "      <th>2</th>\n",
              "      <td>withdrawal</td>\n",
              "      <td>0.052320</td>\n",
              "    </tr>\n",
              "    <tr>\n",
              "      <th>3</th>\n",
              "      <td>purchases_partners</td>\n",
              "      <td>-0.702433</td>\n",
              "    </tr>\n",
              "    <tr>\n",
              "      <th>4</th>\n",
              "      <td>purchases</td>\n",
              "      <td>-0.310320</td>\n",
              "    </tr>\n",
              "    <tr>\n",
              "      <th>5</th>\n",
              "      <td>cc_taken</td>\n",
              "      <td>0.086086</td>\n",
              "    </tr>\n",
              "    <tr>\n",
              "      <th>6</th>\n",
              "      <td>cc_recommended</td>\n",
              "      <td>0.080090</td>\n",
              "    </tr>\n",
              "    <tr>\n",
              "      <th>7</th>\n",
              "      <td>cc_disliked</td>\n",
              "      <td>-0.016842</td>\n",
              "    </tr>\n",
              "    <tr>\n",
              "      <th>8</th>\n",
              "      <td>cc_liked</td>\n",
              "      <td>0.028214</td>\n",
              "    </tr>\n",
              "    <tr>\n",
              "      <th>9</th>\n",
              "      <td>cc_application_begin</td>\n",
              "      <td>0.013468</td>\n",
              "    </tr>\n",
              "    <tr>\n",
              "      <th>10</th>\n",
              "      <td>app_downloaded</td>\n",
              "      <td>-0.013472</td>\n",
              "    </tr>\n",
              "    <tr>\n",
              "      <th>11</th>\n",
              "      <td>web_user</td>\n",
              "      <td>0.150460</td>\n",
              "    </tr>\n",
              "    <tr>\n",
              "      <th>12</th>\n",
              "      <td>ios_user</td>\n",
              "      <td>0.118984</td>\n",
              "    </tr>\n",
              "    <tr>\n",
              "      <th>13</th>\n",
              "      <td>android_user</td>\n",
              "      <td>0.041764</td>\n",
              "    </tr>\n",
              "    <tr>\n",
              "      <th>14</th>\n",
              "      <td>registered_phones</td>\n",
              "      <td>0.095128</td>\n",
              "    </tr>\n",
              "    <tr>\n",
              "      <th>15</th>\n",
              "      <td>waiting_4_loan</td>\n",
              "      <td>-0.052018</td>\n",
              "    </tr>\n",
              "    <tr>\n",
              "      <th>16</th>\n",
              "      <td>cancelled_loan</td>\n",
              "      <td>0.103477</td>\n",
              "    </tr>\n",
              "    <tr>\n",
              "      <th>17</th>\n",
              "      <td>received_loan</td>\n",
              "      <td>0.118104</td>\n",
              "    </tr>\n",
              "    <tr>\n",
              "      <th>18</th>\n",
              "      <td>rejected_loan</td>\n",
              "      <td>0.110107</td>\n",
              "    </tr>\n",
              "    <tr>\n",
              "      <th>19</th>\n",
              "      <td>left_for_two_month_plus</td>\n",
              "      <td>0.061693</td>\n",
              "    </tr>\n",
              "    <tr>\n",
              "      <th>20</th>\n",
              "      <td>left_for_one_month</td>\n",
              "      <td>0.039507</td>\n",
              "    </tr>\n",
              "    <tr>\n",
              "      <th>21</th>\n",
              "      <td>reward_rate</td>\n",
              "      <td>-0.233960</td>\n",
              "    </tr>\n",
              "    <tr>\n",
              "      <th>22</th>\n",
              "      <td>is_referred</td>\n",
              "      <td>0.035970</td>\n",
              "    </tr>\n",
              "    <tr>\n",
              "      <th>23</th>\n",
              "      <td>housing_O</td>\n",
              "      <td>-0.018462</td>\n",
              "    </tr>\n",
              "    <tr>\n",
              "      <th>24</th>\n",
              "      <td>housing_R</td>\n",
              "      <td>0.028850</td>\n",
              "    </tr>\n",
              "    <tr>\n",
              "      <th>25</th>\n",
              "      <td>payment_type_Bi-Weekly</td>\n",
              "      <td>-0.031742</td>\n",
              "    </tr>\n",
              "    <tr>\n",
              "      <th>26</th>\n",
              "      <td>payment_type_Monthly</td>\n",
              "      <td>-0.030749</td>\n",
              "    </tr>\n",
              "    <tr>\n",
              "      <th>27</th>\n",
              "      <td>payment_type_Semi-Monthly</td>\n",
              "      <td>-0.035372</td>\n",
              "    </tr>\n",
              "    <tr>\n",
              "      <th>28</th>\n",
              "      <td>payment_type_Weekly</td>\n",
              "      <td>0.053948</td>\n",
              "    </tr>\n",
              "    <tr>\n",
              "      <th>29</th>\n",
              "      <td>zodiac_sign_Aquarius</td>\n",
              "      <td>0.019180</td>\n",
              "    </tr>\n",
              "    <tr>\n",
              "      <th>30</th>\n",
              "      <td>zodiac_sign_Aries</td>\n",
              "      <td>0.007425</td>\n",
              "    </tr>\n",
              "    <tr>\n",
              "      <th>31</th>\n",
              "      <td>zodiac_sign_Cancer</td>\n",
              "      <td>0.033187</td>\n",
              "    </tr>\n",
              "    <tr>\n",
              "      <th>32</th>\n",
              "      <td>zodiac_sign_Capricorn</td>\n",
              "      <td>0.044799</td>\n",
              "    </tr>\n",
              "    <tr>\n",
              "      <th>33</th>\n",
              "      <td>zodiac_sign_Gemini</td>\n",
              "      <td>-0.008809</td>\n",
              "    </tr>\n",
              "    <tr>\n",
              "      <th>34</th>\n",
              "      <td>zodiac_sign_Leo</td>\n",
              "      <td>-0.010567</td>\n",
              "    </tr>\n",
              "    <tr>\n",
              "      <th>35</th>\n",
              "      <td>zodiac_sign_Libra</td>\n",
              "      <td>0.012622</td>\n",
              "    </tr>\n",
              "    <tr>\n",
              "      <th>36</th>\n",
              "      <td>zodiac_sign_Pisces</td>\n",
              "      <td>0.041185</td>\n",
              "    </tr>\n",
              "    <tr>\n",
              "      <th>37</th>\n",
              "      <td>zodiac_sign_Sagittarius</td>\n",
              "      <td>0.018723</td>\n",
              "    </tr>\n",
              "    <tr>\n",
              "      <th>38</th>\n",
              "      <td>zodiac_sign_Scorpio</td>\n",
              "      <td>0.014220</td>\n",
              "    </tr>\n",
              "    <tr>\n",
              "      <th>39</th>\n",
              "      <td>zodiac_sign_Taurus</td>\n",
              "      <td>0.002101</td>\n",
              "    </tr>\n",
              "    <tr>\n",
              "      <th>40</th>\n",
              "      <td>zodiac_sign_Virgo</td>\n",
              "      <td>0.008035</td>\n",
              "    </tr>\n",
              "  </tbody>\n",
              "</table>\n",
              "</div>"
            ],
            "text/plain": [
              "                     Features     Coeff\n",
              "0                         age -0.167014\n",
              "1                    deposits  0.159372\n",
              "2                  withdrawal  0.052320\n",
              "3          purchases_partners -0.702433\n",
              "4                   purchases -0.310320\n",
              "5                    cc_taken  0.086086\n",
              "6              cc_recommended  0.080090\n",
              "7                 cc_disliked -0.016842\n",
              "8                    cc_liked  0.028214\n",
              "9        cc_application_begin  0.013468\n",
              "10             app_downloaded -0.013472\n",
              "11                   web_user  0.150460\n",
              "12                   ios_user  0.118984\n",
              "13               android_user  0.041764\n",
              "14          registered_phones  0.095128\n",
              "15             waiting_4_loan -0.052018\n",
              "16             cancelled_loan  0.103477\n",
              "17              received_loan  0.118104\n",
              "18              rejected_loan  0.110107\n",
              "19    left_for_two_month_plus  0.061693\n",
              "20         left_for_one_month  0.039507\n",
              "21                reward_rate -0.233960\n",
              "22                is_referred  0.035970\n",
              "23                  housing_O -0.018462\n",
              "24                  housing_R  0.028850\n",
              "25     payment_type_Bi-Weekly -0.031742\n",
              "26       payment_type_Monthly -0.030749\n",
              "27  payment_type_Semi-Monthly -0.035372\n",
              "28        payment_type_Weekly  0.053948\n",
              "29       zodiac_sign_Aquarius  0.019180\n",
              "30          zodiac_sign_Aries  0.007425\n",
              "31         zodiac_sign_Cancer  0.033187\n",
              "32      zodiac_sign_Capricorn  0.044799\n",
              "33         zodiac_sign_Gemini -0.008809\n",
              "34            zodiac_sign_Leo -0.010567\n",
              "35          zodiac_sign_Libra  0.012622\n",
              "36         zodiac_sign_Pisces  0.041185\n",
              "37    zodiac_sign_Sagittarius  0.018723\n",
              "38        zodiac_sign_Scorpio  0.014220\n",
              "39         zodiac_sign_Taurus  0.002101\n",
              "40          zodiac_sign_Virgo  0.008035"
            ]
          },
          "metadata": {
            "tags": []
          },
          "execution_count": 124
        }
      ]
    },
    {
      "cell_type": "code",
      "metadata": {
        "id": "QzWuWn-S-B54",
        "colab_type": "code",
        "colab": {}
      },
      "source": [
        "from sklearn.feature_selection import RFE\n",
        "from sklearn.linear_model import LogisticRegression"
      ],
      "execution_count": 126,
      "outputs": []
    },
    {
      "cell_type": "code",
      "metadata": {
        "id": "FgXQ1Kii--Ze",
        "colab_type": "code",
        "colab": {
          "base_uri": "https://localhost:8080/",
          "height": 144
        },
        "outputId": "c6e5682d-c5a5-4b99-fe54-59212486fa76"
      },
      "source": [
        "classifier= LogisticRegression()\n",
        "rfe= RFE(classifier, 20)\n",
        "rfe.fit(X_train, y_train)\n"
      ],
      "execution_count": 128,
      "outputs": [
        {
          "output_type": "execute_result",
          "data": {
            "text/plain": [
              "RFE(estimator=LogisticRegression(C=1.0, class_weight=None, dual=False,\n",
              "                                 fit_intercept=True, intercept_scaling=1,\n",
              "                                 l1_ratio=None, max_iter=100,\n",
              "                                 multi_class='auto', n_jobs=None, penalty='l2',\n",
              "                                 random_state=None, solver='lbfgs', tol=0.0001,\n",
              "                                 verbose=0, warm_start=False),\n",
              "    n_features_to_select=20, step=1, verbose=0)"
            ]
          },
          "metadata": {
            "tags": []
          },
          "execution_count": 128
        }
      ]
    },
    {
      "cell_type": "code",
      "metadata": {
        "id": "rrSFs9ioASWr",
        "colab_type": "code",
        "colab": {
          "base_uri": "https://localhost:8080/",
          "height": 90
        },
        "outputId": "f9c2c029-6e9d-4b6e-846f-73c4356a8902"
      },
      "source": [
        "print(rfe.support_)"
      ],
      "execution_count": 129,
      "outputs": [
        {
          "output_type": "stream",
          "text": [
            "[ True  True  True  True  True  True  True False False False False  True\n",
            "  True False  True  True  True  True  True  True  True  True False False\n",
            "  True False False False  True False False False  True False False False\n",
            " False False False False False]\n"
          ],
          "name": "stdout"
        }
      ]
    },
    {
      "cell_type": "code",
      "metadata": {
        "id": "4KryT6CzAcQM",
        "colab_type": "code",
        "colab": {
          "base_uri": "https://localhost:8080/",
          "height": 144
        },
        "outputId": "77dbe621-cf0a-48a5-e869-b96421b264a4"
      },
      "source": [
        "X_train.columns[rfe.support_]"
      ],
      "execution_count": 130,
      "outputs": [
        {
          "output_type": "execute_result",
          "data": {
            "text/plain": [
              "Index(['age', 'deposits', 'withdrawal', 'purchases_partners', 'purchases',\n",
              "       'cc_taken', 'cc_recommended', 'web_user', 'ios_user',\n",
              "       'registered_phones', 'waiting_4_loan', 'cancelled_loan',\n",
              "       'received_loan', 'rejected_loan', 'left_for_two_month_plus',\n",
              "       'left_for_one_month', 'reward_rate', 'housing_R', 'payment_type_Weekly',\n",
              "       'zodiac_sign_Capricorn'],\n",
              "      dtype='object')"
            ]
          },
          "metadata": {
            "tags": []
          },
          "execution_count": 130
        }
      ]
    },
    {
      "cell_type": "code",
      "metadata": {
        "id": "XmpQ0MSkAiO2",
        "colab_type": "code",
        "colab": {
          "base_uri": "https://localhost:8080/",
          "height": 72
        },
        "outputId": "eae9416b-d6d6-4831-d639-acdac3ea1f86"
      },
      "source": [
        "rfe.ranking_"
      ],
      "execution_count": 131,
      "outputs": [
        {
          "output_type": "execute_result",
          "data": {
            "text/plain": [
              "array([ 1,  1,  1,  1,  1,  1,  1, 13,  7, 15, 14,  1,  1,  9,  1,  1,  1,\n",
              "        1,  1,  1,  1,  1,  2, 12,  1,  5,  6,  4,  1, 16, 21,  8,  1, 11,\n",
              "       10, 19,  3, 17, 18, 22, 20])"
            ]
          },
          "metadata": {
            "tags": []
          },
          "execution_count": 131
        }
      ]
    },
    {
      "cell_type": "code",
      "metadata": {
        "id": "TJ8u3GUgAnpp",
        "colab_type": "code",
        "colab": {
          "base_uri": "https://localhost:8080/",
          "height": 108
        },
        "outputId": "34d5600a-218c-4d8d-af36-ce8e904ac4a6"
      },
      "source": [
        "classifier= LogisticRegression()\n",
        "classifier.fit(X_train[X_train.columns[rfe.support_]], y_train)"
      ],
      "execution_count": 132,
      "outputs": [
        {
          "output_type": "execute_result",
          "data": {
            "text/plain": [
              "LogisticRegression(C=1.0, class_weight=None, dual=False, fit_intercept=True,\n",
              "                   intercept_scaling=1, l1_ratio=None, max_iter=100,\n",
              "                   multi_class='auto', n_jobs=None, penalty='l2',\n",
              "                   random_state=None, solver='lbfgs', tol=0.0001, verbose=0,\n",
              "                   warm_start=False)"
            ]
          },
          "metadata": {
            "tags": []
          },
          "execution_count": 132
        }
      ]
    },
    {
      "cell_type": "code",
      "metadata": {
        "id": "qm3cc4ovA-hE",
        "colab_type": "code",
        "colab": {}
      },
      "source": [
        "y_pred= classifier.predict(X_test[X_test.columns[rfe.support_]])"
      ],
      "execution_count": 133,
      "outputs": []
    },
    {
      "cell_type": "code",
      "metadata": {
        "id": "m2ibgselBNTJ",
        "colab_type": "code",
        "colab": {
          "base_uri": "https://localhost:8080/",
          "height": 35
        },
        "outputId": "45c88089-80f8-464d-df99-cc4351d3686d"
      },
      "source": [
        "from sklearn.metrics import accuracy_score, f1_score, precision_score, recall_score, confusion_matrix, classification_report\n",
        "cm= confusion_matrix(y_test, y_pred)\n",
        "print(accuracy_score(y_test, y_pred))"
      ],
      "execution_count": 134,
      "outputs": [
        {
          "output_type": "stream",
          "text": [
            "0.6111111111111112\n"
          ],
          "name": "stdout"
        }
      ]
    },
    {
      "cell_type": "code",
      "metadata": {
        "id": "hSJngzujBUyY",
        "colab_type": "code",
        "colab": {
          "base_uri": "https://localhost:8080/",
          "height": 35
        },
        "outputId": "d12babf6-61ef-49ff-bbe5-c1068937f94d"
      },
      "source": [
        "print(precision_score(y_test, y_pred))"
      ],
      "execution_count": 135,
      "outputs": [
        {
          "output_type": "stream",
          "text": [
            "0.5211891208096142\n"
          ],
          "name": "stdout"
        }
      ]
    },
    {
      "cell_type": "code",
      "metadata": {
        "id": "ztItO8RJBa1n",
        "colab_type": "code",
        "colab": {
          "base_uri": "https://localhost:8080/",
          "height": 35
        },
        "outputId": "83ab99a9-f90b-4e9c-b825-e366b484fce6"
      },
      "source": [
        "print(recall_score(y_test, y_pred))"
      ],
      "execution_count": 136,
      "outputs": [
        {
          "output_type": "stream",
          "text": [
            "0.7376902417188899\n"
          ],
          "name": "stdout"
        }
      ]
    },
    {
      "cell_type": "code",
      "metadata": {
        "id": "oEgGK_QlBc6e",
        "colab_type": "code",
        "colab": {
          "base_uri": "https://localhost:8080/",
          "height": 35
        },
        "outputId": "b48b94c9-3a3b-4d76-99e2-df191dbe89fe"
      },
      "source": [
        "print(f1_score(y_test, y_pred))"
      ],
      "execution_count": 137,
      "outputs": [
        {
          "output_type": "stream",
          "text": [
            "0.6108228317272054\n"
          ],
          "name": "stdout"
        }
      ]
    },
    {
      "cell_type": "code",
      "metadata": {
        "id": "WbTIa1k6BeaQ",
        "colab_type": "code",
        "colab": {
          "base_uri": "https://localhost:8080/",
          "height": 283
        },
        "outputId": "fee10780-698e-43fe-99bb-25cf0991d88b"
      },
      "source": [
        "cm= confusion_matrix(y_test, y_pred)\n",
        "sns.heatmap(cm, annot= True, fmt= 'g')"
      ],
      "execution_count": 138,
      "outputs": [
        {
          "output_type": "execute_result",
          "data": {
            "text/plain": [
              "<matplotlib.axes._subplots.AxesSubplot at 0x7f65d6beb6a0>"
            ]
          },
          "metadata": {
            "tags": []
          },
          "execution_count": 138
        },
        {
          "output_type": "display_data",
          "data": {
            "image/png": "[encoded data removed]",
            "text/plain": [
              "<Figure size 432x288 with 2 Axes>"
            ]
          },
          "metadata": {
            "tags": [],
            "needs_background": "light"
          }
        }
      ]
    },
    {
      "cell_type": "code",
      "metadata": {
        "id": "dvsQOum1Bmpn",
        "colab_type": "code",
        "colab": {
          "base_uri": "https://localhost:8080/",
          "height": 677
        },
        "outputId": "caf53007-8bba-4c20-aa58-5e4b4883a296"
      },
      "source": [
        "pd.concat([pd.DataFrame(X_train.columns[rfe.support_], columns= ['Features']), pd.DataFrame(np.transpose(classifier.coef_), columns= ['Coeff'])], axis= 1)"
      ],
      "execution_count": 139,
      "outputs": [
        {
          "output_type": "execute_result",
          "data": {
            "text/html": [
              "<div>\n",
              "<style scoped>\n",
              "    .dataframe tbody tr th:only-of-type {\n",
              "        vertical-align: middle;\n",
              "    }\n",
              "\n",
              "    .dataframe tbody tr th {\n",
              "        vertical-align: top;\n",
              "    }\n",
              "\n",
              "    .dataframe thead th {\n",
              "        text-align: right;\n",
              "    }\n",
              "</style>\n",
              "<table border=\"1\" class=\"dataframe\">\n",
              "  <thead>\n",
              "    <tr style=\"text-align: right;\">\n",
              "      <th></th>\n",
              "      <th>Features</th>\n",
              "      <th>Coeff</th>\n",
              "    </tr>\n",
              "  </thead>\n",
              "  <tbody>\n",
              "    <tr>\n",
              "      <th>0</th>\n",
              "      <td>age</td>\n",
              "      <td>-0.170046</td>\n",
              "    </tr>\n",
              "    <tr>\n",
              "      <th>1</th>\n",
              "      <td>deposits</td>\n",
              "      <td>0.174334</td>\n",
              "    </tr>\n",
              "    <tr>\n",
              "      <th>2</th>\n",
              "      <td>withdrawal</td>\n",
              "      <td>0.057786</td>\n",
              "    </tr>\n",
              "    <tr>\n",
              "      <th>3</th>\n",
              "      <td>purchases_partners</td>\n",
              "      <td>-0.691735</td>\n",
              "    </tr>\n",
              "    <tr>\n",
              "      <th>4</th>\n",
              "      <td>purchases</td>\n",
              "      <td>-0.321656</td>\n",
              "    </tr>\n",
              "    <tr>\n",
              "      <th>5</th>\n",
              "      <td>cc_taken</td>\n",
              "      <td>0.088074</td>\n",
              "    </tr>\n",
              "    <tr>\n",
              "      <th>6</th>\n",
              "      <td>cc_recommended</td>\n",
              "      <td>0.093721</td>\n",
              "    </tr>\n",
              "    <tr>\n",
              "      <th>7</th>\n",
              "      <td>web_user</td>\n",
              "      <td>0.150047</td>\n",
              "    </tr>\n",
              "    <tr>\n",
              "      <th>8</th>\n",
              "      <td>ios_user</td>\n",
              "      <td>0.085442</td>\n",
              "    </tr>\n",
              "    <tr>\n",
              "      <th>9</th>\n",
              "      <td>registered_phones</td>\n",
              "      <td>0.101780</td>\n",
              "    </tr>\n",
              "    <tr>\n",
              "      <th>10</th>\n",
              "      <td>waiting_4_loan</td>\n",
              "      <td>-0.051734</td>\n",
              "    </tr>\n",
              "    <tr>\n",
              "      <th>11</th>\n",
              "      <td>cancelled_loan</td>\n",
              "      <td>0.101932</td>\n",
              "    </tr>\n",
              "    <tr>\n",
              "      <th>12</th>\n",
              "      <td>received_loan</td>\n",
              "      <td>0.115990</td>\n",
              "    </tr>\n",
              "    <tr>\n",
              "      <th>13</th>\n",
              "      <td>rejected_loan</td>\n",
              "      <td>0.110239</td>\n",
              "    </tr>\n",
              "    <tr>\n",
              "      <th>14</th>\n",
              "      <td>left_for_two_month_plus</td>\n",
              "      <td>0.058645</td>\n",
              "    </tr>\n",
              "    <tr>\n",
              "      <th>15</th>\n",
              "      <td>left_for_one_month</td>\n",
              "      <td>0.038394</td>\n",
              "    </tr>\n",
              "    <tr>\n",
              "      <th>16</th>\n",
              "      <td>reward_rate</td>\n",
              "      <td>-0.239684</td>\n",
              "    </tr>\n",
              "    <tr>\n",
              "      <th>17</th>\n",
              "      <td>housing_R</td>\n",
              "      <td>0.039553</td>\n",
              "    </tr>\n",
              "    <tr>\n",
              "      <th>18</th>\n",
              "      <td>payment_type_Weekly</td>\n",
              "      <td>0.079877</td>\n",
              "    </tr>\n",
              "    <tr>\n",
              "      <th>19</th>\n",
              "      <td>zodiac_sign_Capricorn</td>\n",
              "      <td>0.038119</td>\n",
              "    </tr>\n",
              "  </tbody>\n",
              "</table>\n",
              "</div>"
            ],
            "text/plain": [
              "                   Features     Coeff\n",
              "0                       age -0.170046\n",
              "1                  deposits  0.174334\n",
              "2                withdrawal  0.057786\n",
              "3        purchases_partners -0.691735\n",
              "4                 purchases -0.321656\n",
              "5                  cc_taken  0.088074\n",
              "6            cc_recommended  0.093721\n",
              "7                  web_user  0.150047\n",
              "8                  ios_user  0.085442\n",
              "9         registered_phones  0.101780\n",
              "10           waiting_4_loan -0.051734\n",
              "11           cancelled_loan  0.101932\n",
              "12            received_loan  0.115990\n",
              "13            rejected_loan  0.110239\n",
              "14  left_for_two_month_plus  0.058645\n",
              "15       left_for_one_month  0.038394\n",
              "16              reward_rate -0.239684\n",
              "17                housing_R  0.039553\n",
              "18      payment_type_Weekly  0.079877\n",
              "19    zodiac_sign_Capricorn  0.038119"
            ]
          },
          "metadata": {
            "tags": []
          },
          "execution_count": 139
        }
      ]
    },
    {
      "cell_type": "code",
      "metadata": {
        "id": "3ksoclTXCQjn",
        "colab_type": "code",
        "colab": {}
      },
      "source": [
        "#Finalise the results\n",
        "final_results= pd.concat([y_test, user_identifier], axis= 1).dropna()\n",
        "final_results['predicted_churn']= y_pred\n"
      ],
      "execution_count": 148,
      "outputs": []
    },
    {
      "cell_type": "code",
      "metadata": {
        "id": "sNIGpbDnC8t0",
        "colab_type": "code",
        "colab": {
          "base_uri": "https://localhost:8080/",
          "height": 206
        },
        "outputId": "fb5330b7-43a7-4520-b405-0030fbc28740"
      },
      "source": [
        "final_results.head()"
      ],
      "execution_count": 149,
      "outputs": [
        {
          "output_type": "execute_result",
          "data": {
            "text/html": [
              "<div>\n",
              "<style scoped>\n",
              "    .dataframe tbody tr th:only-of-type {\n",
              "        vertical-align: middle;\n",
              "    }\n",
              "\n",
              "    .dataframe tbody tr th {\n",
              "        vertical-align: top;\n",
              "    }\n",
              "\n",
              "    .dataframe thead th {\n",
              "        text-align: right;\n",
              "    }\n",
              "</style>\n",
              "<table border=\"1\" class=\"dataframe\">\n",
              "  <thead>\n",
              "    <tr style=\"text-align: right;\">\n",
              "      <th></th>\n",
              "      <th>churn</th>\n",
              "      <th>user</th>\n",
              "      <th>predicted_churn</th>\n",
              "    </tr>\n",
              "  </thead>\n",
              "  <tbody>\n",
              "    <tr>\n",
              "      <th>4</th>\n",
              "      <td>1.0</td>\n",
              "      <td>61353</td>\n",
              "      <td>1</td>\n",
              "    </tr>\n",
              "    <tr>\n",
              "      <th>7</th>\n",
              "      <td>0.0</td>\n",
              "      <td>67679</td>\n",
              "      <td>0</td>\n",
              "    </tr>\n",
              "    <tr>\n",
              "      <th>8</th>\n",
              "      <td>0.0</td>\n",
              "      <td>21269</td>\n",
              "      <td>0</td>\n",
              "    </tr>\n",
              "    <tr>\n",
              "      <th>18</th>\n",
              "      <td>0.0</td>\n",
              "      <td>69531</td>\n",
              "      <td>1</td>\n",
              "    </tr>\n",
              "    <tr>\n",
              "      <th>22</th>\n",
              "      <td>0.0</td>\n",
              "      <td>25997</td>\n",
              "      <td>0</td>\n",
              "    </tr>\n",
              "  </tbody>\n",
              "</table>\n",
              "</div>"
            ],
            "text/plain": [
              "    churn   user  predicted_churn\n",
              "4     1.0  61353                1\n",
              "7     0.0  67679                0\n",
              "8     0.0  21269                0\n",
              "18    0.0  69531                1\n",
              "22    0.0  25997                0"
            ]
          },
          "metadata": {
            "tags": []
          },
          "execution_count": 149
        }
      ]
    },
    {
      "cell_type": "code",
      "metadata": {
        "id": "AshDIBgOC-7s",
        "colab_type": "code",
        "colab": {}
      },
      "source": [
        "final_results= final_results[['user', 'churn', 'predicted_churn']].reset_index(drop= True)"
      ],
      "execution_count": 150,
      "outputs": []
    },
    {
      "cell_type": "code",
      "metadata": {
        "id": "jY4ot5tMDkQ2",
        "colab_type": "code",
        "colab": {
          "base_uri": "https://localhost:8080/",
          "height": 206
        },
        "outputId": "9162b6c0-41a4-4c18-fd43-9decb14bcd04"
      },
      "source": [
        "final_results.head()"
      ],
      "execution_count": 151,
      "outputs": [
        {
          "output_type": "execute_result",
          "data": {
            "text/html": [
              "<div>\n",
              "<style scoped>\n",
              "    .dataframe tbody tr th:only-of-type {\n",
              "        vertical-align: middle;\n",
              "    }\n",
              "\n",
              "    .dataframe tbody tr th {\n",
              "        vertical-align: top;\n",
              "    }\n",
              "\n",
              "    .dataframe thead th {\n",
              "        text-align: right;\n",
              "    }\n",
              "</style>\n",
              "<table border=\"1\" class=\"dataframe\">\n",
              "  <thead>\n",
              "    <tr style=\"text-align: right;\">\n",
              "      <th></th>\n",
              "      <th>user</th>\n",
              "      <th>churn</th>\n",
              "      <th>predicted_churn</th>\n",
              "    </tr>\n",
              "  </thead>\n",
              "  <tbody>\n",
              "    <tr>\n",
              "      <th>0</th>\n",
              "      <td>61353</td>\n",
              "      <td>1.0</td>\n",
              "      <td>1</td>\n",
              "    </tr>\n",
              "    <tr>\n",
              "      <th>1</th>\n",
              "      <td>67679</td>\n",
              "      <td>0.0</td>\n",
              "      <td>0</td>\n",
              "    </tr>\n",
              "    <tr>\n",
              "      <th>2</th>\n",
              "      <td>21269</td>\n",
              "      <td>0.0</td>\n",
              "      <td>0</td>\n",
              "    </tr>\n",
              "    <tr>\n",
              "      <th>3</th>\n",
              "      <td>69531</td>\n",
              "      <td>0.0</td>\n",
              "      <td>1</td>\n",
              "    </tr>\n",
              "    <tr>\n",
              "      <th>4</th>\n",
              "      <td>25997</td>\n",
              "      <td>0.0</td>\n",
              "      <td>0</td>\n",
              "    </tr>\n",
              "  </tbody>\n",
              "</table>\n",
              "</div>"
            ],
            "text/plain": [
              "    user  churn  predicted_churn\n",
              "0  61353    1.0                1\n",
              "1  67679    0.0                0\n",
              "2  21269    0.0                0\n",
              "3  69531    0.0                1\n",
              "4  25997    0.0                0"
            ]
          },
          "metadata": {
            "tags": []
          },
          "execution_count": 151
        }
      ]
    },
    {
      "cell_type": "code",
      "metadata": {
        "id": "MymSk7M1DmHo",
        "colab_type": "code",
        "colab": {}
      },
      "source": [
        "\n"
      ],
      "execution_count": 143,
      "outputs": []
    }
  ]
}